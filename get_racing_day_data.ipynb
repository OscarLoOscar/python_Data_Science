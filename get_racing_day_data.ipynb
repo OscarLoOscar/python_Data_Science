{
  "nbformat": 4,
  "nbformat_minor": 0,
  "metadata": {
    "colab": {
      "provenance": [],
      "authorship_tag": "ABX9TyOD4MIiz7vezbTVHHtykl9t",
      "include_colab_link": true
    },
    "kernelspec": {
      "name": "python3",
      "display_name": "Python 3"
    },
    "language_info": {
      "name": "python"
    }
  },
  "cells": [
    {
      "cell_type": "markdown",
      "metadata": {
        "id": "view-in-github",
        "colab_type": "text"
      },
      "source": [
        "<a href=\"https://colab.research.google.com/github/OscarLoOscar/python_Data_Science/blob/main/get_racing_day_data.ipynb\" target=\"_parent\"><img src=\"https://colab.research.google.com/assets/colab-badge.svg\" alt=\"Open In Colab\"/></a>"
      ]
    },
    {
      "cell_type": "code",
      "execution_count": 1,
      "metadata": {
        "colab": {
          "base_uri": "https://localhost:8080/"
        },
        "id": "oFcsKa9hu3C4",
        "outputId": "4c4be6c8-58ca-4aa7-a2cb-726d171a026b"
      },
      "outputs": [
        {
          "output_type": "stream",
          "name": "stdout",
          "text": [
            "Requirement already satisfied: requests in /usr/local/lib/python3.10/dist-packages (2.31.0)\n",
            "Requirement already satisfied: beautifulsoup4 in /usr/local/lib/python3.10/dist-packages (4.12.3)\n",
            "Requirement already satisfied: charset-normalizer<4,>=2 in /usr/local/lib/python3.10/dist-packages (from requests) (3.3.2)\n",
            "Requirement already satisfied: idna<4,>=2.5 in /usr/local/lib/python3.10/dist-packages (from requests) (3.7)\n",
            "Requirement already satisfied: urllib3<3,>=1.21.1 in /usr/local/lib/python3.10/dist-packages (from requests) (2.0.7)\n",
            "Requirement already satisfied: certifi>=2017.4.17 in /usr/local/lib/python3.10/dist-packages (from requests) (2024.2.2)\n",
            "Requirement already satisfied: soupsieve>1.2 in /usr/local/lib/python3.10/dist-packages (from beautifulsoup4) (2.5)\n"
          ]
        }
      ],
      "source": [
        "!pip install requests beautifulsoup4"
      ]
    },
    {
      "cell_type": "code",
      "source": [
        "import requests\n",
        "from bs4 import BeautifulSoup\n",
        "import re\n",
        "import json\n",
        "\n",
        "def scrape_race_data(race_no):\n",
        "# Define the URL\n",
        "  url = 'https://bet.hkjc.com/racing/index.aspx?lang=ch&date=2024-06-05&venue=HV&raceno=9'\n",
        "\n",
        "# Send a GET request to the URL\n",
        "response = requests.get(url)\n",
        "\n",
        "# Check if the request was successful\n",
        "if response.status_code == 200:\n",
        "    # Parse the HTML content\n",
        "    soup = BeautifulSoup(response.content, 'html.parser')\n",
        "\n",
        "    # Find the script tag with the required data\n",
        "    script_tag = soup.find('script', string=re.compile(r'var normalRunnerList ='))\n",
        "    script_content = script_tag.string\n",
        "\n",
        "    # Extract the JSON data from the script content\n",
        "    json_data_match = re.search(r'var normalRunnerList = (\\[.*?\\]);', script_content)\n",
        "    if json_data_match:\n",
        "        json_data = json_data_match.group(1)\n",
        "\n",
        "        # Parse the JSON data\n",
        "        normal_runner_list = json.loads(json_data)\n",
        "\n",
        "        # Format the data\n",
        "        race_info = ['跑馬地', '好地', '草地 - \"A\" 賽道', 1650]\n",
        "        runners = [\n",
        "            [\n",
        "                runner['num'],\n",
        "                runner['nameCh'],\n",
        "                int(runner['barDraw']),\n",
        "                int(runner['handicapWeight']),\n",
        "                runner['jockeyName'],\n",
        "                runner['trainerName'],\n",
        "                int(runner['horseWeight'])\n",
        "            ] for runner in normal_runner_list[9]  # Race 9\n",
        "        ]\n",
        "\n",
        "        input_data = [race_info, runners]\n",
        "        print(input_data)\n",
        "else:\n",
        "    print(f\"Failed to retrieve the page. Status code: {response.status_code}\")"
      ],
      "metadata": {
        "colab": {
          "base_uri": "https://localhost:8080/"
        },
        "id": "Lfeaq2N4vMIa",
        "outputId": "231d3102-edb0-43bc-e4a5-a34edf272ee3"
      },
      "execution_count": 11,
      "outputs": [
        {
          "output_type": "stream",
          "name": "stdout",
          "text": [
            "[['跑馬地', '好地', '草地 - \"A\" 賽道', 1650], [[1, '鈁糖武士', 11, 135, '陳嘉熙', '方嘉柏', 1104], [2, '撼天鐵翼', 2, 134, '班德禮', '韋達', 1166], [3, '歡樂至寶', 6, 131, '何澤堯', '呂健威', 1160], [4, '有財有勢', 3, 130, '潘頓', '蔡約翰', 1092], [5, '越駿知己', 4, 126, '希威森', '羅富全', 1144], [6, '加州德至', 7, 125, '蔡明紹', '巫偉傑', 1265], [7, '有鴻利', 12, 125, '霍宏聲', '姚本輝', 1269], [8, '穿甲鷹', 1, 122, '田泰安', '黎昭昇', 1164], [9, '多利神駒', 8, 122, '艾兆禮', '蘇偉賢', 1043], [10, '連連有盈', 5, 122, '潘明輝', '告東尼', 1202], [11, '嘉應喝彩', 10, 120, '巴度', '伍鵬志', 1220], [12, '財駿', 9, 119, '鍾易禮', '沈集成', 1192]]]\n"
          ]
        }
      ]
    },
    {
      "cell_type": "code",
      "source": [
        "import requests\n",
        "from bs4 import BeautifulSoup\n",
        "import re\n",
        "import json\n",
        "\n",
        "def scrape_race_data(race_no):\n",
        "    # Define the base URL\n",
        "    base_url = 'https://bet.hkjc.com/racing/index.aspx?lang=ch&date=2024-06-05&venue=HV&raceno={}'\n",
        "\n",
        "    # Update the URL with the provided race number\n",
        "    url = base_url.format(race_no)\n",
        "\n",
        "    # Send a GET request to the URL\n",
        "    response = requests.get(url)\n",
        "\n",
        "    # Check if the request was successful\n",
        "    if response.status_code == 200:\n",
        "        # Parse the HTML content\n",
        "        soup = BeautifulSoup(response.content, 'html.parser')\n",
        "\n",
        "        # Find the script tag with the required data\n",
        "        script_tag = soup.find('script', string=re.compile(r'var normalRunnerList ='))\n",
        "        script_content = script_tag.string\n",
        "\n",
        "        # Extract the JSON data from the script content\n",
        "        json_data_match = re.search(r'var normalRunnerList = (\\[.*?\\]);', script_content)\n",
        "        if json_data_match:\n",
        "            json_data = json_data_match.group(1)\n",
        "\n",
        "            # Parse the JSON data\n",
        "            normal_runner_list = json.loads(json_data)\n",
        "\n",
        "            # Format the data\n",
        "            race_info = ['跑馬地', '好地', '草地 - \"A\" 賽道', 1650]\n",
        "            runners = [\n",
        "                [\n",
        "                    runner['num'],\n",
        "                    runner['nameCh'],\n",
        "                    int(runner['barDraw']),\n",
        "                    int(runner['handicapWeight']),\n",
        "                    runner['jockeyName'],\n",
        "                    runner['trainerName'],\n",
        "                    int(runner['horseWeight'])\n",
        "                ] for runner in normal_runner_list[int(race_no) ]\n",
        "            ]\n",
        "\n",
        "            input_data = [race_info, runners]\n",
        "            return input_data\n",
        "    else:\n",
        "        print(f\"Failed to retrieve the page. Status code: {response.status_code}\")\n",
        "        return None\n",
        "\n",
        "# Example usage\n",
        "race_number = 2\n",
        "data = scrape_race_data(race_number)\n",
        "if data:\n",
        "    print(data)"
      ],
      "metadata": {
        "colab": {
          "base_uri": "https://localhost:8080/"
        },
        "id": "JcX24H5U4EcK",
        "outputId": "33a2a4a9-8823-4205-a880-e01ae8d9b213"
      },
      "execution_count": 13,
      "outputs": [
        {
          "output_type": "stream",
          "name": "stdout",
          "text": [
            "[['跑馬地', '好地', '草地 - \"A\" 賽道', 1650], [[1, '多多勇駒', 4, 135, '董明朗', '鄭俊偉', 1055], [2, '發財秘笈', 1, 134, '潘頓', '伍鵬志', 1026], [3, '夢照發', 6, 132, '鍾易禮', '沈集成', 1106], [4, '八駿笑昇', 11, 132, '班德禮', '告東尼', 1099], [5, '一舖到位', 3, 127, '希威森', '黎昭昇', 1091], [6, '一支箭', 2, 126, '田泰安', '賀賢', 1018], [7, '精準快車', 9, 125, '艾兆禮', '姚本輝', 1043], [8, '香港精神', 8, 125, '蔡明紹', '葉楚航', 1054], [9, '赤火驍龍', 7, 121, '湯普新', '蘇偉賢', 1264], [10, '永勝金駒', 5, 119, '巴度', '丁冠豪', 994], [11, '太陽之子', 10, 118, '楊明綸', '大衛希斯', 1110], [12, '好戰小子', 12, 117, '何澤堯', '呂健威', 1056]]]\n"
          ]
        }
      ]
    }
  ]
}