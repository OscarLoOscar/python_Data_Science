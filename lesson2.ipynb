{
  "nbformat": 4,
  "nbformat_minor": 0,
  "metadata": {
    "colab": {
      "provenance": [],
      "authorship_tag": "ABX9TyMQzQxuaudlzL4/4kpwfebb",
      "include_colab_link": true
    },
    "kernelspec": {
      "name": "python3",
      "display_name": "Python 3"
    },
    "language_info": {
      "name": "python"
    }
  },
  "cells": [
    {
      "cell_type": "markdown",
      "metadata": {
        "id": "view-in-github",
        "colab_type": "text"
      },
      "source": [
        "<a href=\"https://colab.research.google.com/github/OscarLoOscar/python_Data_Science/blob/main/lesson2.ipynb\" target=\"_parent\"><img src=\"https://colab.research.google.com/assets/colab-badge.svg\" alt=\"Open In Colab\"/></a>"
      ]
    },
    {
      "cell_type": "code",
      "execution_count": null,
      "metadata": {
        "colab": {
          "base_uri": "https://localhost:8080/"
        },
        "id": "PNP_zX5PjbcY",
        "outputId": "af605e2a-c227-4ce4-af92-5b6d0baf2234"
      },
      "outputs": [
        {
          "output_type": "stream",
          "name": "stdout",
          "text": [
            "[123, 456, 889, 990, 'abc']\n",
            "[456, 889, 990, 'abc']\n",
            "[456, 889, 990]\n",
            "[456, 889, 990]\n",
            "[456, 889, 990]\n"
          ]
        }
      ],
      "source": [
        "listA = [123,456,889,990,'abc']\n",
        "print(listA)\n",
        "\n",
        "listA.remove(123)\n",
        "print(listA)\n",
        "\n",
        "listA.remove('abc')\n",
        "print(listA)\n",
        "\n",
        "#copy\n",
        "aaa = listA.copy()\n",
        "print(aaa)\n",
        "\n",
        "#pop,會return返123\n",
        "listA.pop:(123)\n",
        "print(listA)"
      ]
    },
    {
      "cell_type": "code",
      "source": [
        "# 直接用command＋＋ / 就出到 #號效果\n"
      ],
      "metadata": {
        "id": "6MlAM0RaQko8"
      },
      "execution_count": null,
      "outputs": []
    },
    {
      "cell_type": "code",
      "source": [
        "# return and print 分別\n",
        "# colab會直接print最尾一句\n",
        "\n",
        "def plusone(x):\n",
        "  return(x+1)\n",
        "\n",
        "plusone(10)"
      ],
      "metadata": {
        "colab": {
          "base_uri": "https://localhost:8080/"
        },
        "id": "u2ktquhCQ-zs",
        "outputId": "490947fc-9979-4fd2-de28-70b15e7ef0df"
      },
      "execution_count": null,
      "outputs": [
        {
          "output_type": "execute_result",
          "data": {
            "text/plain": [
              "11"
            ]
          },
          "metadata": {},
          "execution_count": 28
        }
      ]
    },
    {
      "cell_type": "code",
      "source": [
        "list1 = [10,20,30]\n",
        "\n",
        "def multiplyTWO(x):\n",
        "  return(x*2)\n",
        "\n",
        "print(list(map(multiplyTWO,list1))) #map base on 每個DATA run 每個FUNCTIONFUNCTION\n"
      ],
      "metadata": {
        "colab": {
          "base_uri": "https://localhost:8080/"
        },
        "id": "BnRmGzNmRzXy",
        "outputId": "5da45ef9-9b84-4c8e-8c55-e9030757b2a8"
      },
      "execution_count": null,
      "outputs": [
        {
          "output_type": "stream",
          "name": "stdout",
          "text": [
            "[20, 40, 60]\n"
          ]
        }
      ]
    },
    {
      "cell_type": "code",
      "source": [
        "# NumPy Introduction\n",
        "# NumPy是Python在進行科學運算時，一個非常基礎的Package，同時也是非常核心的library，它具有下列幾個重要特色：\n",
        "# 提供非常高效能的多維陣列(multi-dimensional array)數學函式庫\n",
        "# 可整合C/C++及Fortran的程式碼\n",
        "# 方便有用的線性代數(Linear Algebra)及傅立葉轉換(Fourier Transform)能力\n",
        "# 利用NumPy Array替代Python List\n",
        "# 可定義任意的數據型態(Data Type)，使得能輕易及無縫的與多種資料庫整合"
      ],
      "metadata": {
        "id": "WYQON2MBnNEn"
      },
      "execution_count": null,
      "outputs": []
    },
    {
      "cell_type": "code",
      "source": [
        "#lesson 2 start\n",
        "import numpy as np"
      ],
      "metadata": {
        "id": "X9atsAJMSqp0"
      },
      "execution_count": null,
      "outputs": []
    },
    {
      "cell_type": "code",
      "source": [
        "array1 = np.array([1,2,3,4])\n",
        "print(array1)\n",
        "\n",
        "print(array1[0])\n",
        "\n",
        "print(array1[0:3]) #頭num：係邊度開始抽，尾：抽幾多個"
      ],
      "metadata": {
        "colab": {
          "base_uri": "https://localhost:8080/"
        },
        "id": "uqEm29o7SwyY",
        "outputId": "f7d7ad12-b792-4205-9fb1-140604c25445"
      },
      "execution_count": null,
      "outputs": [
        {
          "output_type": "stream",
          "name": "stdout",
          "text": [
            "[1 2 3 4]\n",
            "1\n",
            "[1 2 3]\n"
          ]
        }
      ]
    },
    {
      "cell_type": "code",
      "source": [
        "array2 = array1[array1 % 2 == 0] #餘數\n",
        "\n",
        "#destructive , 會扭曲入面STR\n",
        "array1[array1 % 2 == 0] = -1000\n",
        "print(array1)\n",
        "\n",
        "# Non-destructive\n",
        "array2 = np.where(array1 % 2 == 0,-1000,array1)\n",
        "print(array2)\n",
        "\n"
      ],
      "metadata": {
        "colab": {
          "base_uri": "https://localhost:8080/"
        },
        "id": "Aobsd4GCTfAq",
        "outputId": "4d3f3473-a6de-4a4f-c52f-95baedbc9dba"
      },
      "execution_count": null,
      "outputs": [
        {
          "output_type": "stream",
          "name": "stdout",
          "text": [
            "[    1 -1000     3 -1000]\n",
            "[    1 -1000     3 -1000]\n"
          ]
        }
      ]
    },
    {
      "cell_type": "code",
      "source": [
        "#2d model\n",
        "array2d = np.array([\n",
        "                    [1,2,3],\n",
        "                    [4,5,6]\n",
        "                    ])\n",
        "print(array2d[1][2])\n",
        "\n",
        "#3d model\n",
        "array3d = np.array([\n",
        "                     [[1,2,3],[4,5,6]],\n",
        "                     [[7,8,9],[10,11,12]]\n",
        "                     ])\n",
        "print(array3d[1][1][2])"
      ],
      "metadata": {
        "colab": {
          "base_uri": "https://localhost:8080/"
        },
        "id": "f72FN93-T-V5",
        "outputId": "398e71b8-7f23-4d42-abc0-48424285a4c9"
      },
      "execution_count": null,
      "outputs": [
        {
          "output_type": "stream",
          "name": "stdout",
          "text": [
            "6\n",
            "12\n"
          ]
        }
      ]
    },
    {
      "cell_type": "code",
      "source": [
        "array1d = np.array([1,2,3,4,5,6,7,8,9,10,11,12])\n",
        "print(array1d)\n",
        "#變2D Form\n",
        "\n",
        "array2d = array1d.reshape(2,6) #2行，6個colum\n",
        "print(array2d)\n",
        "\n",
        "array2d = array1d.reshape(2,-1) #-1自動計\n",
        "print(array2d)\n",
        "\n",
        "array3d = array1d.reshape(2,3,2) #2個TABLE，3行，2個colum\n",
        "print(array3d)\n",
        "\n"
      ],
      "metadata": {
        "colab": {
          "base_uri": "https://localhost:8080/"
        },
        "id": "qyJ0jr7pXsBR",
        "outputId": "ea7834b4-785b-481d-a974-478411aef46f"
      },
      "execution_count": null,
      "outputs": [
        {
          "output_type": "stream",
          "name": "stdout",
          "text": [
            "[ 1  2  3  4  5  6  7  8  9 10 11 12]\n",
            "[[ 1  2  3  4  5  6]\n",
            " [ 7  8  9 10 11 12]]\n",
            "[[ 1  2  3  4  5  6]\n",
            " [ 7  8  9 10 11 12]]\n",
            "[[[ 1  2]\n",
            "  [ 3  4]\n",
            "  [ 5  6]]\n",
            "\n",
            " [[ 7  8]\n",
            "  [ 9 10]\n",
            "  [11 12]]]\n"
          ]
        }
      ]
    },
    {
      "cell_type": "code",
      "source": [
        "a = np.array([1,2,3])\n",
        "b = np.array([4,5,6])\n",
        "c = np.concatenate((a, b))\n",
        "# print(c)\n",
        "\n",
        "a = np.array([1,2,3])\n",
        "b = np.append(a,[4,5])\n",
        "print(b)\n",
        "\n",
        "a = np.array([1,2,3])\n",
        "b = np.insert(a,0,[4,5,6])\n",
        "print(b)"
      ],
      "metadata": {
        "colab": {
          "base_uri": "https://localhost:8080/"
        },
        "id": "Q5MF7Pf2aZRS",
        "outputId": "47d9ffb2-9079-4bb1-fbda-54f469f17710"
      },
      "execution_count": null,
      "outputs": [
        {
          "output_type": "stream",
          "name": "stdout",
          "text": [
            "[1 2 3 4 5]\n",
            "[4 5 6 1 2 3]\n"
          ]
        }
      ]
    },
    {
      "cell_type": "code",
      "source": [
        "import pandas as pd"
      ],
      "metadata": {
        "id": "6TGP12zSbeta"
      },
      "execution_count": null,
      "outputs": []
    },
    {
      "cell_type": "code",
      "source": [
        "mylist = [1,2,3,4,5]\n",
        "\n",
        "ser1 = pd.Series(mylist)\n",
        "\n",
        "print(ser1[0])"
      ],
      "metadata": {
        "colab": {
          "base_uri": "https://localhost:8080/"
        },
        "id": "DNhZEDGPbpUL",
        "outputId": "8b05bdc1-e745-4871-c581-458ab810d795"
      },
      "execution_count": null,
      "outputs": [
        {
          "output_type": "stream",
          "name": "stdout",
          "text": [
            "1\n"
          ]
        }
      ]
    },
    {
      "cell_type": "code",
      "source": [
        "# mylist = [10,20,30]\n",
        "# mylist2 = ['a','b','c']\n",
        "# mydict = dict(zip(mylist2,mylist))  #zip,將D野合埋一齊\n",
        "# print(mydict)\n",
        "\n",
        "ser = pd.Series(mylist)\n",
        "# print(ser)\n",
        "\n",
        "df = ser.to_frame().reset_index()\n",
        "print(df)"
      ],
      "metadata": {
        "colab": {
          "base_uri": "https://localhost:8080/"
        },
        "id": "aYWTIbKKcMWW",
        "outputId": "5aa6af42-9bbf-4c5f-fcfa-c50fa1a34359"
      },
      "execution_count": null,
      "outputs": [
        {
          "output_type": "stream",
          "name": "stdout",
          "text": [
            "   index  0\n",
            "0      0  1\n",
            "1      1  2\n",
            "2      2  3\n",
            "3      3  4\n",
            "4      4  5\n"
          ]
        }
      ]
    },
    {
      "cell_type": "code",
      "source": [
        "from google.colab import drive\n",
        "from google.colab import files\n",
        "drive.mount('/content/gdrive')\n",
        "\n",
        "df.to_csv('testing.csv' , index=False) #to_csv = save\n",
        "files.download('testing.csv')\n",
        "\n",
        "df1 = pd.read.csv('testing.csv') #read = download\n",
        "print(df1)"
      ],
      "metadata": {
        "colab": {
          "base_uri": "https://localhost:8080/",
          "height": 375
        },
        "id": "9_A8wJzAdCNx",
        "outputId": "e897f969-4096-49d6-82a0-8e9535c8d8b3"
      },
      "execution_count": null,
      "outputs": [
        {
          "output_type": "error",
          "ename": "MessageError",
          "evalue": "ignored",
          "traceback": [
            "\u001b[0;31m---------------------------------------------------------------------------\u001b[0m",
            "\u001b[0;31mMessageError\u001b[0m                              Traceback (most recent call last)",
            "\u001b[0;32m<ipython-input-15-53e69f114a12>\u001b[0m in \u001b[0;36m<module>\u001b[0;34m()\u001b[0m\n\u001b[1;32m      1\u001b[0m \u001b[0;32mfrom\u001b[0m \u001b[0mgoogle\u001b[0m\u001b[0;34m.\u001b[0m\u001b[0mcolab\u001b[0m \u001b[0;32mimport\u001b[0m \u001b[0mdrive\u001b[0m\u001b[0;34m\u001b[0m\u001b[0;34m\u001b[0m\u001b[0m\n\u001b[1;32m      2\u001b[0m \u001b[0;32mfrom\u001b[0m \u001b[0mgoogle\u001b[0m\u001b[0;34m.\u001b[0m\u001b[0mcolab\u001b[0m \u001b[0;32mimport\u001b[0m \u001b[0mfiles\u001b[0m\u001b[0;34m\u001b[0m\u001b[0;34m\u001b[0m\u001b[0m\n\u001b[0;32m----> 3\u001b[0;31m \u001b[0mdrive\u001b[0m\u001b[0;34m.\u001b[0m\u001b[0mmount\u001b[0m\u001b[0;34m(\u001b[0m\u001b[0;34m'/content/gdrive'\u001b[0m\u001b[0;34m)\u001b[0m\u001b[0;34m\u001b[0m\u001b[0;34m\u001b[0m\u001b[0m\n\u001b[0m\u001b[1;32m      4\u001b[0m \u001b[0;34m\u001b[0m\u001b[0m\n\u001b[1;32m      5\u001b[0m \u001b[0mdf\u001b[0m\u001b[0;34m.\u001b[0m\u001b[0mto_csv\u001b[0m\u001b[0;34m(\u001b[0m\u001b[0;34m'testing.csv'\u001b[0m \u001b[0;34m,\u001b[0m \u001b[0mindex\u001b[0m\u001b[0;34m=\u001b[0m\u001b[0;32mFalse\u001b[0m\u001b[0;34m)\u001b[0m \u001b[0;31m#to_csv = save\u001b[0m\u001b[0;34m\u001b[0m\u001b[0;34m\u001b[0m\u001b[0m\n",
            "\u001b[0;32m/usr/local/lib/python3.7/dist-packages/google/colab/drive.py\u001b[0m in \u001b[0;36mmount\u001b[0;34m(mountpoint, force_remount, timeout_ms)\u001b[0m\n\u001b[1;32m    107\u001b[0m       \u001b[0mforce_remount\u001b[0m\u001b[0;34m=\u001b[0m\u001b[0mforce_remount\u001b[0m\u001b[0;34m,\u001b[0m\u001b[0;34m\u001b[0m\u001b[0;34m\u001b[0m\u001b[0m\n\u001b[1;32m    108\u001b[0m       \u001b[0mtimeout_ms\u001b[0m\u001b[0;34m=\u001b[0m\u001b[0mtimeout_ms\u001b[0m\u001b[0;34m,\u001b[0m\u001b[0;34m\u001b[0m\u001b[0;34m\u001b[0m\u001b[0m\n\u001b[0;32m--> 109\u001b[0;31m       ephemeral=True)\n\u001b[0m\u001b[1;32m    110\u001b[0m \u001b[0;34m\u001b[0m\u001b[0m\n\u001b[1;32m    111\u001b[0m \u001b[0;34m\u001b[0m\u001b[0m\n",
            "\u001b[0;32m/usr/local/lib/python3.7/dist-packages/google/colab/drive.py\u001b[0m in \u001b[0;36m_mount\u001b[0;34m(mountpoint, force_remount, timeout_ms, ephemeral)\u001b[0m\n\u001b[1;32m    126\u001b[0m   \u001b[0;32mif\u001b[0m \u001b[0mephemeral\u001b[0m\u001b[0;34m:\u001b[0m\u001b[0;34m\u001b[0m\u001b[0;34m\u001b[0m\u001b[0m\n\u001b[1;32m    127\u001b[0m     _message.blocking_request(\n\u001b[0;32m--> 128\u001b[0;31m         'request_auth', request={'authType': 'dfs_ephemeral'}, timeout_sec=None)\n\u001b[0m\u001b[1;32m    129\u001b[0m \u001b[0;34m\u001b[0m\u001b[0m\n\u001b[1;32m    130\u001b[0m   \u001b[0mmountpoint\u001b[0m \u001b[0;34m=\u001b[0m \u001b[0m_os\u001b[0m\u001b[0;34m.\u001b[0m\u001b[0mpath\u001b[0m\u001b[0;34m.\u001b[0m\u001b[0mexpanduser\u001b[0m\u001b[0;34m(\u001b[0m\u001b[0mmountpoint\u001b[0m\u001b[0;34m)\u001b[0m\u001b[0;34m\u001b[0m\u001b[0;34m\u001b[0m\u001b[0m\n",
            "\u001b[0;32m/usr/local/lib/python3.7/dist-packages/google/colab/_message.py\u001b[0m in \u001b[0;36mblocking_request\u001b[0;34m(request_type, request, timeout_sec, parent)\u001b[0m\n\u001b[1;32m    173\u001b[0m   request_id = send_request(\n\u001b[1;32m    174\u001b[0m       request_type, request, parent=parent, expect_reply=True)\n\u001b[0;32m--> 175\u001b[0;31m   \u001b[0;32mreturn\u001b[0m \u001b[0mread_reply_from_input\u001b[0m\u001b[0;34m(\u001b[0m\u001b[0mrequest_id\u001b[0m\u001b[0;34m,\u001b[0m \u001b[0mtimeout_sec\u001b[0m\u001b[0;34m)\u001b[0m\u001b[0;34m\u001b[0m\u001b[0;34m\u001b[0m\u001b[0m\n\u001b[0m",
            "\u001b[0;32m/usr/local/lib/python3.7/dist-packages/google/colab/_message.py\u001b[0m in \u001b[0;36mread_reply_from_input\u001b[0;34m(message_id, timeout_sec)\u001b[0m\n\u001b[1;32m    104\u001b[0m         reply.get('colab_msg_id') == message_id):\n\u001b[1;32m    105\u001b[0m       \u001b[0;32mif\u001b[0m \u001b[0;34m'error'\u001b[0m \u001b[0;32min\u001b[0m \u001b[0mreply\u001b[0m\u001b[0;34m:\u001b[0m\u001b[0;34m\u001b[0m\u001b[0;34m\u001b[0m\u001b[0m\n\u001b[0;32m--> 106\u001b[0;31m         \u001b[0;32mraise\u001b[0m \u001b[0mMessageError\u001b[0m\u001b[0;34m(\u001b[0m\u001b[0mreply\u001b[0m\u001b[0;34m[\u001b[0m\u001b[0;34m'error'\u001b[0m\u001b[0;34m]\u001b[0m\u001b[0;34m)\u001b[0m\u001b[0;34m\u001b[0m\u001b[0;34m\u001b[0m\u001b[0m\n\u001b[0m\u001b[1;32m    107\u001b[0m       \u001b[0;32mreturn\u001b[0m \u001b[0mreply\u001b[0m\u001b[0;34m.\u001b[0m\u001b[0mget\u001b[0m\u001b[0;34m(\u001b[0m\u001b[0;34m'data'\u001b[0m\u001b[0;34m,\u001b[0m \u001b[0;32mNone\u001b[0m\u001b[0;34m)\u001b[0m\u001b[0;34m\u001b[0m\u001b[0;34m\u001b[0m\u001b[0m\n\u001b[1;32m    108\u001b[0m \u001b[0;34m\u001b[0m\u001b[0m\n",
            "\u001b[0;31mMessageError\u001b[0m: Error: credential propagation was unsuccessful"
          ]
        }
      ]
    },
    {
      "cell_type": "code",
      "source": [
        "!pip install yfinance\n",
        "import yfinance as yf\n",
        "df2 = yf.download(\n",
        "    tickers='MSFT',\n",
        "    period = '5y',\n",
        "    interval = '1d')\n",
        "print(df2)\n",
        "\n"
      ],
      "metadata": {
        "colab": {
          "base_uri": "https://localhost:8080/"
        },
        "id": "5KmRSCwafooU",
        "outputId": "0400bead-2eec-47ae-c1d0-5ededab7e004"
      },
      "execution_count": null,
      "outputs": [
        {
          "output_type": "stream",
          "name": "stdout",
          "text": [
            "Requirement already satisfied: yfinance in /usr/local/lib/python3.7/dist-packages (0.1.70)\n",
            "Requirement already satisfied: lxml>=4.5.1 in /usr/local/lib/python3.7/dist-packages (from yfinance) (4.8.0)\n",
            "Requirement already satisfied: multitasking>=0.0.7 in /usr/local/lib/python3.7/dist-packages (from yfinance) (0.0.10)\n",
            "Requirement already satisfied: pandas>=0.24.0 in /usr/local/lib/python3.7/dist-packages (from yfinance) (1.3.5)\n",
            "Requirement already satisfied: numpy>=1.15 in /usr/local/lib/python3.7/dist-packages (from yfinance) (1.21.6)\n",
            "Requirement already satisfied: requests>=2.26 in /usr/local/lib/python3.7/dist-packages (from yfinance) (2.27.1)\n",
            "Requirement already satisfied: python-dateutil>=2.7.3 in /usr/local/lib/python3.7/dist-packages (from pandas>=0.24.0->yfinance) (2.8.2)\n",
            "Requirement already satisfied: pytz>=2017.3 in /usr/local/lib/python3.7/dist-packages (from pandas>=0.24.0->yfinance) (2022.1)\n",
            "Requirement already satisfied: six>=1.5 in /usr/local/lib/python3.7/dist-packages (from python-dateutil>=2.7.3->pandas>=0.24.0->yfinance) (1.15.0)\n",
            "Requirement already satisfied: idna<4,>=2.5 in /usr/local/lib/python3.7/dist-packages (from requests>=2.26->yfinance) (2.10)\n",
            "Requirement already satisfied: urllib3<1.27,>=1.21.1 in /usr/local/lib/python3.7/dist-packages (from requests>=2.26->yfinance) (1.24.3)\n",
            "Requirement already satisfied: certifi>=2017.4.17 in /usr/local/lib/python3.7/dist-packages (from requests>=2.26->yfinance) (2021.10.8)\n",
            "Requirement already satisfied: charset-normalizer~=2.0.0 in /usr/local/lib/python3.7/dist-packages (from requests>=2.26->yfinance) (2.0.12)\n",
            "[*********************100%***********************]  1 of 1 completed\n",
            "                  Open        High         Low       Close   Adj Close  \\\n",
            "Date                                                                     \n",
            "2017-05-01   68.680000   69.550003   68.500000   69.410004   64.793182   \n",
            "2017-05-02   69.709999   69.709999   69.129997   69.300003   64.690491   \n",
            "2017-05-03   69.379997   69.379997   68.709999   69.080002   64.485130   \n",
            "2017-05-04   69.029999   69.080002   68.639999   68.809998   64.233093   \n",
            "2017-05-05   68.900002   69.029999   68.489998   69.000000   64.410439   \n",
            "...                ...         ...         ...         ...         ...   \n",
            "2022-04-22  281.679993  283.200012  273.380005  274.029999  274.029999   \n",
            "2022-04-25  273.290009  281.109985  270.769989  280.720001  280.720001   \n",
            "2022-04-26  277.500000  278.359985  270.000000  270.220001  270.220001   \n",
            "2022-04-27  282.100006  290.970001  279.160004  283.220001  283.220001   \n",
            "2022-04-28  285.190002  290.980011  281.459991  289.630005  289.630005   \n",
            "\n",
            "              Volume  \n",
            "Date                  \n",
            "2017-05-01  31954400  \n",
            "2017-05-02  23906100  \n",
            "2017-05-03  28928000  \n",
            "2017-05-04  21749400  \n",
            "2017-05-05  19128800  \n",
            "...              ...  \n",
            "2022-04-22  29379300  \n",
            "2022-04-25  35678900  \n",
            "2022-04-26  46518400  \n",
            "2022-04-27  63477700  \n",
            "2022-04-28  32962000  \n",
            "\n",
            "[1259 rows x 6 columns]\n"
          ]
        }
      ]
    },
    {
      "cell_type": "code",
      "source": [
        "print(df2.iloc[0])\n",
        "\n",
        "print('----------------------------')\n",
        "print(df2.loc[\"2017-05-02\"])\n",
        "\n",
        "print('----------------------------')\n",
        "print(df2.loc[\"2017-05-02\"]['Volume'])\n",
        "\n",
        "print(df2.iloc[:,0])\n",
        "\n",
        "print('----------------------------')\n",
        "print(df2.loc[:,\"Open\"]) #抽COLUM\n",
        "\n",
        "df2[\"Open\"]"
      ],
      "metadata": {
        "colab": {
          "base_uri": "https://localhost:8080/"
        },
        "id": "JNqNq-uCgWo0",
        "outputId": "ada7d2f6-a801-49af-d57e-699e324925a3"
      },
      "execution_count": null,
      "outputs": [
        {
          "output_type": "stream",
          "name": "stdout",
          "text": [
            "Open         6.868000e+01\n",
            "High         6.955000e+01\n",
            "Low          6.850000e+01\n",
            "Close        6.941000e+01\n",
            "Adj Close    6.479318e+01\n",
            "Volume       3.195440e+07\n",
            "Name: 2017-05-01 00:00:00, dtype: float64\n",
            "Open         6.971000e+01\n",
            "High         6.971000e+01\n",
            "Low          6.913000e+01\n",
            "Close        6.930000e+01\n",
            "Adj Close    6.469049e+01\n",
            "Volume       2.390610e+07\n",
            "Name: 2017-05-02 00:00:00, dtype: float64\n",
            "23906100.0\n",
            "Date\n",
            "2017-05-01     68.680000\n",
            "2017-05-02     69.709999\n",
            "2017-05-03     69.379997\n",
            "2017-05-04     69.029999\n",
            "2017-05-05     68.900002\n",
            "                 ...    \n",
            "2022-04-22    281.679993\n",
            "2022-04-25    273.290009\n",
            "2022-04-26    277.500000\n",
            "2022-04-27    282.100006\n",
            "2022-04-28    285.190002\n",
            "Name: Open, Length: 1259, dtype: float64\n",
            "Date\n",
            "2017-05-01     68.680000\n",
            "2017-05-02     69.709999\n",
            "2017-05-03     69.379997\n",
            "2017-05-04     69.029999\n",
            "2017-05-05     68.900002\n",
            "                 ...    \n",
            "2022-04-22    281.679993\n",
            "2022-04-25    273.290009\n",
            "2022-04-26    277.500000\n",
            "2022-04-27    282.100006\n",
            "2022-04-28    285.190002\n",
            "Name: Open, Length: 1259, dtype: float64\n"
          ]
        },
        {
          "output_type": "execute_result",
          "data": {
            "text/plain": [
              "Date\n",
              "2017-05-01     68.680000\n",
              "2017-05-02     69.709999\n",
              "2017-05-03     69.379997\n",
              "2017-05-04     69.029999\n",
              "2017-05-05     68.900002\n",
              "                 ...    \n",
              "2022-04-22    281.679993\n",
              "2022-04-25    273.290009\n",
              "2022-04-26    277.500000\n",
              "2022-04-27    282.100006\n",
              "2022-04-28    285.190002\n",
              "Name: Open, Length: 1259, dtype: float64"
            ]
          },
          "metadata": {},
          "execution_count": 118
        }
      ]
    },
    {
      "cell_type": "code",
      "source": [
        "print(df2.describe()) #記\n",
        "\n",
        "print(df2.describe().loc[:,'Open']['50%']) #same as print(df2.describe()['Open']['50%'])\n",
        "\n",
        "print(df2['Open'].quantile(0.4))"
      ],
      "metadata": {
        "colab": {
          "base_uri": "https://localhost:8080/"
        },
        "id": "T9fCLuDIiG5h",
        "outputId": "37e3e3cc-8fc1-4318-d1ee-8743df2232ed"
      },
      "execution_count": null,
      "outputs": [
        {
          "output_type": "stream",
          "name": "stdout",
          "text": [
            "              Open         High          Low        Close    Adj Close  \\\n",
            "count  1259.000000  1259.000000  1259.000000  1259.000000  1259.000000   \n",
            "mean    169.612081   171.271056   167.832311   169.640580   166.569735   \n",
            "std      79.580267    80.379891    78.698787    79.575730    80.795559   \n",
            "min      67.400002    68.099998    67.139999    67.480003    63.352615   \n",
            "25%     102.580002   103.595001   101.559998   102.404999    98.482918   \n",
            "50%     140.949997   144.419998   139.520004   141.029999   137.482391   \n",
            "75%     230.139999   233.320000   227.305000   229.940002   227.820587   \n",
            "max     344.619995   349.670013   342.200012   343.109985   342.402008   \n",
            "\n",
            "             Volume  \n",
            "count  1.259000e+03  \n",
            "mean   2.934865e+07  \n",
            "std    1.303197e+07  \n",
            "min    7.425600e+06  \n",
            "25%    2.117735e+07  \n",
            "50%    2.606870e+07  \n",
            "75%    3.354800e+07  \n",
            "max    1.112421e+08  \n",
            "140.9499969482422\n",
            "124.26600189208985\n"
          ]
        }
      ]
    },
    {
      "cell_type": "code",
      "source": [
        "#sorting\n",
        "print(df2['Open'].sort_values(ascending = False))\n",
        "print(df2[[\"Open\",\"Close\"]].sort_values(by=\"Open\"))"
      ],
      "metadata": {
        "colab": {
          "base_uri": "https://localhost:8080/"
        },
        "id": "icfn8T1pkLwi",
        "outputId": "7d005275-c32f-4a8f-fdd8-ecec81be2e22"
      },
      "execution_count": null,
      "outputs": [
        {
          "output_type": "stream",
          "name": "stdout",
          "text": [
            "Date\n",
            "2021-11-22    344.619995\n",
            "2021-12-28    343.149994\n",
            "2021-11-19    342.640015\n",
            "2021-12-30    341.910004\n",
            "2021-12-29    341.299988\n",
            "                 ...    \n",
            "2017-05-16     68.230003\n",
            "2017-05-15     68.139999\n",
            "2017-05-22     67.889999\n",
            "2017-05-19     67.500000\n",
            "2017-05-18     67.400002\n",
            "Name: Open, Length: 1259, dtype: float64\n",
            "                  Open       Close\n",
            "Date                              \n",
            "2017-05-18   67.400002   67.709999\n",
            "2017-05-19   67.500000   67.690002\n",
            "2017-05-22   67.889999   68.449997\n",
            "2017-05-15   68.139999   68.430000\n",
            "2017-05-16   68.230003   69.410004\n",
            "...                ...         ...\n",
            "2021-12-29  341.299988  341.950012\n",
            "2021-12-30  341.910004  339.320007\n",
            "2021-11-19  342.640015  343.109985\n",
            "2021-12-28  343.149994  341.250000\n",
            "2021-11-22  344.619995  339.829987\n",
            "\n",
            "[1259 rows x 2 columns]\n"
          ]
        }
      ]
    },
    {
      "cell_type": "code",
      "source": [
        "!pip install chart_studio\n",
        "!pip install plotly\n",
        "from chart_studio import plotly as py\n",
        "import plotly.graph_objs as go\n",
        "import plotly.express as px\n",
        "\n",
        "fig = px.scatter(x=[0,1,2,3,4],y=[5,6,7,8,9])\n",
        "\n",
        "fig.show()"
      ],
      "metadata": {
        "colab": {
          "base_uri": "https://localhost:8080/",
          "height": 763
        },
        "id": "ZI0AL8m1lWSR",
        "outputId": "1b45ce27-09cc-4887-fb45-a0ffe0d2205d"
      },
      "execution_count": null,
      "outputs": [
        {
          "output_type": "stream",
          "name": "stdout",
          "text": [
            "Requirement already satisfied: chart_studio in /usr/local/lib/python3.7/dist-packages (1.1.0)\n",
            "Requirement already satisfied: requests in /usr/local/lib/python3.7/dist-packages (from chart_studio) (2.23.0)\n",
            "Requirement already satisfied: six in /usr/local/lib/python3.7/dist-packages (from chart_studio) (1.15.0)\n",
            "Requirement already satisfied: plotly in /usr/local/lib/python3.7/dist-packages (from chart_studio) (5.5.0)\n",
            "Requirement already satisfied: retrying>=1.3.3 in /usr/local/lib/python3.7/dist-packages (from chart_studio) (1.3.3)\n",
            "Requirement already satisfied: tenacity>=6.2.0 in /usr/local/lib/python3.7/dist-packages (from plotly->chart_studio) (8.0.1)\n",
            "Requirement already satisfied: certifi>=2017.4.17 in /usr/local/lib/python3.7/dist-packages (from requests->chart_studio) (2021.10.8)\n",
            "Requirement already satisfied: chardet<4,>=3.0.2 in /usr/local/lib/python3.7/dist-packages (from requests->chart_studio) (3.0.4)\n",
            "Requirement already satisfied: urllib3!=1.25.0,!=1.25.1,<1.26,>=1.21.1 in /usr/local/lib/python3.7/dist-packages (from requests->chart_studio) (1.24.3)\n",
            "Requirement already satisfied: idna<3,>=2.5 in /usr/local/lib/python3.7/dist-packages (from requests->chart_studio) (2.10)\n",
            "Requirement already satisfied: plotly in /usr/local/lib/python3.7/dist-packages (5.5.0)\n",
            "Requirement already satisfied: tenacity>=6.2.0 in /usr/local/lib/python3.7/dist-packages (from plotly) (8.0.1)\n",
            "Requirement already satisfied: six in /usr/local/lib/python3.7/dist-packages (from plotly) (1.15.0)\n"
          ]
        },
        {
          "output_type": "display_data",
          "data": {
            "text/html": [
              "<html>\n",
              "<head><meta charset=\"utf-8\" /></head>\n",
              "<body>\n",
              "    <div>            <script src=\"https://cdnjs.cloudflare.com/ajax/libs/mathjax/2.7.5/MathJax.js?config=TeX-AMS-MML_SVG\"></script><script type=\"text/javascript\">if (window.MathJax) {MathJax.Hub.Config({SVG: {font: \"STIX-Web\"}});}</script>                <script type=\"text/javascript\">window.PlotlyConfig = {MathJaxConfig: 'local'};</script>\n",
              "        <script src=\"https://cdn.plot.ly/plotly-2.8.3.min.js\"></script>                <div id=\"6f0bc5f2-b05e-4b22-b1c6-558f3b95d91f\" class=\"plotly-graph-div\" style=\"height:525px; width:100%;\"></div>            <script type=\"text/javascript\">                                    window.PLOTLYENV=window.PLOTLYENV || {};                                    if (document.getElementById(\"6f0bc5f2-b05e-4b22-b1c6-558f3b95d91f\")) {                    Plotly.newPlot(                        \"6f0bc5f2-b05e-4b22-b1c6-558f3b95d91f\",                        [{\"hovertemplate\":\"x=%{x}<br>y=%{y}<extra></extra>\",\"legendgroup\":\"\",\"marker\":{\"color\":\"#636efa\",\"symbol\":\"circle\"},\"mode\":\"markers\",\"name\":\"\",\"orientation\":\"v\",\"showlegend\":false,\"x\":[0,1,2,3,4],\"xaxis\":\"x\",\"y\":[5,6,7,8,9],\"yaxis\":\"y\",\"type\":\"scatter\"}],                        {\"template\":{\"data\":{\"bar\":[{\"error_x\":{\"color\":\"#2a3f5f\"},\"error_y\":{\"color\":\"#2a3f5f\"},\"marker\":{\"line\":{\"color\":\"#E5ECF6\",\"width\":0.5},\"pattern\":{\"fillmode\":\"overlay\",\"size\":10,\"solidity\":0.2}},\"type\":\"bar\"}],\"barpolar\":[{\"marker\":{\"line\":{\"color\":\"#E5ECF6\",\"width\":0.5},\"pattern\":{\"fillmode\":\"overlay\",\"size\":10,\"solidity\":0.2}},\"type\":\"barpolar\"}],\"carpet\":[{\"aaxis\":{\"endlinecolor\":\"#2a3f5f\",\"gridcolor\":\"white\",\"linecolor\":\"white\",\"minorgridcolor\":\"white\",\"startlinecolor\":\"#2a3f5f\"},\"baxis\":{\"endlinecolor\":\"#2a3f5f\",\"gridcolor\":\"white\",\"linecolor\":\"white\",\"minorgridcolor\":\"white\",\"startlinecolor\":\"#2a3f5f\"},\"type\":\"carpet\"}],\"choropleth\":[{\"colorbar\":{\"outlinewidth\":0,\"ticks\":\"\"},\"type\":\"choropleth\"}],\"contour\":[{\"colorbar\":{\"outlinewidth\":0,\"ticks\":\"\"},\"colorscale\":[[0.0,\"#0d0887\"],[0.1111111111111111,\"#46039f\"],[0.2222222222222222,\"#7201a8\"],[0.3333333333333333,\"#9c179e\"],[0.4444444444444444,\"#bd3786\"],[0.5555555555555556,\"#d8576b\"],[0.6666666666666666,\"#ed7953\"],[0.7777777777777778,\"#fb9f3a\"],[0.8888888888888888,\"#fdca26\"],[1.0,\"#f0f921\"]],\"type\":\"contour\"}],\"contourcarpet\":[{\"colorbar\":{\"outlinewidth\":0,\"ticks\":\"\"},\"type\":\"contourcarpet\"}],\"heatmap\":[{\"colorbar\":{\"outlinewidth\":0,\"ticks\":\"\"},\"colorscale\":[[0.0,\"#0d0887\"],[0.1111111111111111,\"#46039f\"],[0.2222222222222222,\"#7201a8\"],[0.3333333333333333,\"#9c179e\"],[0.4444444444444444,\"#bd3786\"],[0.5555555555555556,\"#d8576b\"],[0.6666666666666666,\"#ed7953\"],[0.7777777777777778,\"#fb9f3a\"],[0.8888888888888888,\"#fdca26\"],[1.0,\"#f0f921\"]],\"type\":\"heatmap\"}],\"heatmapgl\":[{\"colorbar\":{\"outlinewidth\":0,\"ticks\":\"\"},\"colorscale\":[[0.0,\"#0d0887\"],[0.1111111111111111,\"#46039f\"],[0.2222222222222222,\"#7201a8\"],[0.3333333333333333,\"#9c179e\"],[0.4444444444444444,\"#bd3786\"],[0.5555555555555556,\"#d8576b\"],[0.6666666666666666,\"#ed7953\"],[0.7777777777777778,\"#fb9f3a\"],[0.8888888888888888,\"#fdca26\"],[1.0,\"#f0f921\"]],\"type\":\"heatmapgl\"}],\"histogram\":[{\"marker\":{\"pattern\":{\"fillmode\":\"overlay\",\"size\":10,\"solidity\":0.2}},\"type\":\"histogram\"}],\"histogram2d\":[{\"colorbar\":{\"outlinewidth\":0,\"ticks\":\"\"},\"colorscale\":[[0.0,\"#0d0887\"],[0.1111111111111111,\"#46039f\"],[0.2222222222222222,\"#7201a8\"],[0.3333333333333333,\"#9c179e\"],[0.4444444444444444,\"#bd3786\"],[0.5555555555555556,\"#d8576b\"],[0.6666666666666666,\"#ed7953\"],[0.7777777777777778,\"#fb9f3a\"],[0.8888888888888888,\"#fdca26\"],[1.0,\"#f0f921\"]],\"type\":\"histogram2d\"}],\"histogram2dcontour\":[{\"colorbar\":{\"outlinewidth\":0,\"ticks\":\"\"},\"colorscale\":[[0.0,\"#0d0887\"],[0.1111111111111111,\"#46039f\"],[0.2222222222222222,\"#7201a8\"],[0.3333333333333333,\"#9c179e\"],[0.4444444444444444,\"#bd3786\"],[0.5555555555555556,\"#d8576b\"],[0.6666666666666666,\"#ed7953\"],[0.7777777777777778,\"#fb9f3a\"],[0.8888888888888888,\"#fdca26\"],[1.0,\"#f0f921\"]],\"type\":\"histogram2dcontour\"}],\"mesh3d\":[{\"colorbar\":{\"outlinewidth\":0,\"ticks\":\"\"},\"type\":\"mesh3d\"}],\"parcoords\":[{\"line\":{\"colorbar\":{\"outlinewidth\":0,\"ticks\":\"\"}},\"type\":\"parcoords\"}],\"pie\":[{\"automargin\":true,\"type\":\"pie\"}],\"scatter\":[{\"marker\":{\"colorbar\":{\"outlinewidth\":0,\"ticks\":\"\"}},\"type\":\"scatter\"}],\"scatter3d\":[{\"line\":{\"colorbar\":{\"outlinewidth\":0,\"ticks\":\"\"}},\"marker\":{\"colorbar\":{\"outlinewidth\":0,\"ticks\":\"\"}},\"type\":\"scatter3d\"}],\"scattercarpet\":[{\"marker\":{\"colorbar\":{\"outlinewidth\":0,\"ticks\":\"\"}},\"type\":\"scattercarpet\"}],\"scattergeo\":[{\"marker\":{\"colorbar\":{\"outlinewidth\":0,\"ticks\":\"\"}},\"type\":\"scattergeo\"}],\"scattergl\":[{\"marker\":{\"colorbar\":{\"outlinewidth\":0,\"ticks\":\"\"}},\"type\":\"scattergl\"}],\"scattermapbox\":[{\"marker\":{\"colorbar\":{\"outlinewidth\":0,\"ticks\":\"\"}},\"type\":\"scattermapbox\"}],\"scatterpolar\":[{\"marker\":{\"colorbar\":{\"outlinewidth\":0,\"ticks\":\"\"}},\"type\":\"scatterpolar\"}],\"scatterpolargl\":[{\"marker\":{\"colorbar\":{\"outlinewidth\":0,\"ticks\":\"\"}},\"type\":\"scatterpolargl\"}],\"scatterternary\":[{\"marker\":{\"colorbar\":{\"outlinewidth\":0,\"ticks\":\"\"}},\"type\":\"scatterternary\"}],\"surface\":[{\"colorbar\":{\"outlinewidth\":0,\"ticks\":\"\"},\"colorscale\":[[0.0,\"#0d0887\"],[0.1111111111111111,\"#46039f\"],[0.2222222222222222,\"#7201a8\"],[0.3333333333333333,\"#9c179e\"],[0.4444444444444444,\"#bd3786\"],[0.5555555555555556,\"#d8576b\"],[0.6666666666666666,\"#ed7953\"],[0.7777777777777778,\"#fb9f3a\"],[0.8888888888888888,\"#fdca26\"],[1.0,\"#f0f921\"]],\"type\":\"surface\"}],\"table\":[{\"cells\":{\"fill\":{\"color\":\"#EBF0F8\"},\"line\":{\"color\":\"white\"}},\"header\":{\"fill\":{\"color\":\"#C8D4E3\"},\"line\":{\"color\":\"white\"}},\"type\":\"table\"}]},\"layout\":{\"annotationdefaults\":{\"arrowcolor\":\"#2a3f5f\",\"arrowhead\":0,\"arrowwidth\":1},\"autotypenumbers\":\"strict\",\"coloraxis\":{\"colorbar\":{\"outlinewidth\":0,\"ticks\":\"\"}},\"colorscale\":{\"diverging\":[[0,\"#8e0152\"],[0.1,\"#c51b7d\"],[0.2,\"#de77ae\"],[0.3,\"#f1b6da\"],[0.4,\"#fde0ef\"],[0.5,\"#f7f7f7\"],[0.6,\"#e6f5d0\"],[0.7,\"#b8e186\"],[0.8,\"#7fbc41\"],[0.9,\"#4d9221\"],[1,\"#276419\"]],\"sequential\":[[0.0,\"#0d0887\"],[0.1111111111111111,\"#46039f\"],[0.2222222222222222,\"#7201a8\"],[0.3333333333333333,\"#9c179e\"],[0.4444444444444444,\"#bd3786\"],[0.5555555555555556,\"#d8576b\"],[0.6666666666666666,\"#ed7953\"],[0.7777777777777778,\"#fb9f3a\"],[0.8888888888888888,\"#fdca26\"],[1.0,\"#f0f921\"]],\"sequentialminus\":[[0.0,\"#0d0887\"],[0.1111111111111111,\"#46039f\"],[0.2222222222222222,\"#7201a8\"],[0.3333333333333333,\"#9c179e\"],[0.4444444444444444,\"#bd3786\"],[0.5555555555555556,\"#d8576b\"],[0.6666666666666666,\"#ed7953\"],[0.7777777777777778,\"#fb9f3a\"],[0.8888888888888888,\"#fdca26\"],[1.0,\"#f0f921\"]]},\"colorway\":[\"#636efa\",\"#EF553B\",\"#00cc96\",\"#ab63fa\",\"#FFA15A\",\"#19d3f3\",\"#FF6692\",\"#B6E880\",\"#FF97FF\",\"#FECB52\"],\"font\":{\"color\":\"#2a3f5f\"},\"geo\":{\"bgcolor\":\"white\",\"lakecolor\":\"white\",\"landcolor\":\"#E5ECF6\",\"showlakes\":true,\"showland\":true,\"subunitcolor\":\"white\"},\"hoverlabel\":{\"align\":\"left\"},\"hovermode\":\"closest\",\"mapbox\":{\"style\":\"light\"},\"paper_bgcolor\":\"white\",\"plot_bgcolor\":\"#E5ECF6\",\"polar\":{\"angularaxis\":{\"gridcolor\":\"white\",\"linecolor\":\"white\",\"ticks\":\"\"},\"bgcolor\":\"#E5ECF6\",\"radialaxis\":{\"gridcolor\":\"white\",\"linecolor\":\"white\",\"ticks\":\"\"}},\"scene\":{\"xaxis\":{\"backgroundcolor\":\"#E5ECF6\",\"gridcolor\":\"white\",\"gridwidth\":2,\"linecolor\":\"white\",\"showbackground\":true,\"ticks\":\"\",\"zerolinecolor\":\"white\"},\"yaxis\":{\"backgroundcolor\":\"#E5ECF6\",\"gridcolor\":\"white\",\"gridwidth\":2,\"linecolor\":\"white\",\"showbackground\":true,\"ticks\":\"\",\"zerolinecolor\":\"white\"},\"zaxis\":{\"backgroundcolor\":\"#E5ECF6\",\"gridcolor\":\"white\",\"gridwidth\":2,\"linecolor\":\"white\",\"showbackground\":true,\"ticks\":\"\",\"zerolinecolor\":\"white\"}},\"shapedefaults\":{\"line\":{\"color\":\"#2a3f5f\"}},\"ternary\":{\"aaxis\":{\"gridcolor\":\"white\",\"linecolor\":\"white\",\"ticks\":\"\"},\"baxis\":{\"gridcolor\":\"white\",\"linecolor\":\"white\",\"ticks\":\"\"},\"bgcolor\":\"#E5ECF6\",\"caxis\":{\"gridcolor\":\"white\",\"linecolor\":\"white\",\"ticks\":\"\"}},\"title\":{\"x\":0.05},\"xaxis\":{\"automargin\":true,\"gridcolor\":\"white\",\"linecolor\":\"white\",\"ticks\":\"\",\"title\":{\"standoff\":15},\"zerolinecolor\":\"white\",\"zerolinewidth\":2},\"yaxis\":{\"automargin\":true,\"gridcolor\":\"white\",\"linecolor\":\"white\",\"ticks\":\"\",\"title\":{\"standoff\":15},\"zerolinecolor\":\"white\",\"zerolinewidth\":2}}},\"xaxis\":{\"anchor\":\"y\",\"domain\":[0.0,1.0],\"title\":{\"text\":\"x\"}},\"yaxis\":{\"anchor\":\"x\",\"domain\":[0.0,1.0],\"title\":{\"text\":\"y\"}},\"legend\":{\"tracegroupgap\":0},\"margin\":{\"t\":60}},                        {\"responsive\": true}                    ).then(function(){\n",
              "                            \n",
              "var gd = document.getElementById('6f0bc5f2-b05e-4b22-b1c6-558f3b95d91f');\n",
              "var x = new MutationObserver(function (mutations, observer) {{\n",
              "        var display = window.getComputedStyle(gd).display;\n",
              "        if (!display || display === 'none') {{\n",
              "            console.log([gd, 'removed!']);\n",
              "            Plotly.purge(gd);\n",
              "            observer.disconnect();\n",
              "        }}\n",
              "}});\n",
              "\n",
              "// Listen for the removal of the full notebook cells\n",
              "var notebookContainer = gd.closest('#notebook-container');\n",
              "if (notebookContainer) {{\n",
              "    x.observe(notebookContainer, {childList: true});\n",
              "}}\n",
              "\n",
              "// Listen for the clearing of the current output cell\n",
              "var outputEl = gd.closest('.output');\n",
              "if (outputEl) {{\n",
              "    x.observe(outputEl, {childList: true});\n",
              "}}\n",
              "\n",
              "                        })                };                            </script>        </div>\n",
              "</body>\n",
              "</html>"
            ]
          },
          "metadata": {}
        }
      ]
    },
    {
      "cell_type": "code",
      "source": [
        "fig = px.scatter(x=df2[\"Open\"],y=df2[\"Volume\"])\n",
        "\n",
        "fig.show()"
      ],
      "metadata": {
        "colab": {
          "base_uri": "https://localhost:8080/",
          "height": 542
        },
        "id": "__Emesevm6F8",
        "outputId": "2349209a-3e5c-4987-836c-8d9ed1eba2c8"
      },
      "execution_count": null,
      "outputs": [
        {
          "output_type": "display_data",
          "data": {
            "text/html": [
              "<html>\n",
              "<head><meta charset=\"utf-8\" /></head>\n",
              "<body>\n",
              "    <div>            <script src=\"https://cdnjs.cloudflare.com/ajax/libs/mathjax/2.7.5/MathJax.js?config=TeX-AMS-MML_SVG\"></script><script type=\"text/javascript\">if (window.MathJax) {MathJax.Hub.Config({SVG: {font: \"STIX-Web\"}});}</script>                <script type=\"text/javascript\">window.PlotlyConfig = {MathJaxConfig: 'local'};</script>\n",
              "        <script src=\"https://cdn.plot.ly/plotly-2.8.3.min.js\"></script>                <div id=\"1415257b-60d8-477e-9c49-1ddf4b092c8c\" class=\"plotly-graph-div\" style=\"height:525px; width:100%;\"></div>            <script type=\"text/javascript\">                                    window.PLOTLYENV=window.PLOTLYENV || {};                                    if (document.getElementById(\"1415257b-60d8-477e-9c49-1ddf4b092c8c\")) {                    Plotly.newPlot(                        \"1415257b-60d8-477e-9c49-1ddf4b092c8c\",                        [{\"hovertemplate\":\"x=%{x}<br>y=%{y}<extra></extra>\",\"legendgroup\":\"\",\"marker\":{\"color\":\"#636efa\",\"symbol\":\"circle\"},\"mode\":\"markers\",\"name\":\"\",\"showlegend\":false,\"x\":[68.68000030517578,69.70999908447266,69.37999725341797,69.02999877929688,68.9000015258789,68.97000122070312,68.86000061035156,68.98999786376953,68.36000061035156,68.61000061035156,68.13999938964844,68.2300033569336,68.88999938964844,67.4000015258789,67.5,67.88999938964844,68.72000122070312,68.87000274658203,68.97000122070312,69.80000305175781,69.79000091552734,70.52999877929688,70.23999786376953,70.44000244140625,71.97000122070312,72.30000305175781,72.63999938964844,72.51000213623047,72.04000091552734,69.25,70.0199966430664,70.91000366210938,69.2699966430664,69.7300033569336,70.5,70.81999969482422,70.20999908447266,70.54000091552734,70.08999633789062,71.4000015258789,70.11000061035156,69.20999908447266,69.37999725341797,68.77999877929688,69.33000183105469,68.26000213623047,68.2699966430664,68.69999694824219,69.45999908447266,70.0,70.69000244140625,71.5,72.23999786376953,72.80000305175781,73.08999633789062,73.5,74.18000030517578,73.44999694824219,73.52999877929688,73.80000305175781,74.33999633789062,73.76000213623047,72.66999816894531,73.30000305175781,73.0999984741211,72.55000305175781,72.19000244140625,72.4000015258789,72.80000305175781,72.08999633789062,72.25,71.9000015258789,71.61000061035156,73.05999755859375,73.58999633789062,73.33999633789062,73.58000183105469,72.2699966430664,72.47000122070312,72.3499984741211,72.95999908447266,72.73999786376953,72.86000061035156,73.05999755859375,72.25,73.01000213623047,74.02999877929688,74.70999908447266,73.33999633789062,73.73999786376953,73.68000030517578,74.33000183105469,74.30999755859375,74.76000213623047,74.93000030517578,75.0,74.83000183105469,75.2300033569336,75.20999908447266,75.3499984741211,75.11000061035156,73.98999786376953,74.08999633789062,73.66999816894531,73.55000305175781,73.54000091552734,73.94000244140625,74.70999908447266,74.66999816894531,74.08999633789062,75.22000122070312,75.66999816894531,75.97000122070312,76.33000183105469,76.36000061035156,76.48999786376953,77.58999633789062,77.41999816894531,77.47000122070312,77.66999816894531,77.56999969482422,78.31999969482422,78.98999786376953,78.9000015258789,78.58000183105469,79.19999694824219,84.37000274658203,83.69999694824219,84.36000061035156,83.68000030517578,83.3499984741211,84.08000183105469,84.19999694824219,84.7699966430664,84.13999938964844,84.11000061035156,83.79000091552734,83.66000366210938,83.5,83.47000122070312,83.0999984741211,83.12000274658203,82.4000015258789,82.73999786376953,83.83000183105469,83.01000213623047,83.30999755859375,84.06999969482422,84.70999908447266,83.51000213623047,83.5999984741211,84.41999816894531,81.33999633789062,81.55000305175781,82.54000091552734,83.62999725341797,84.29000091552734,85.30999755859375,85.73999786376953,85.43000030517578,85.26000213623047,87.12000274658203,86.3499984741211,86.19999694824219,86.05000305175781,85.4000015258789,85.30999755859375,85.6500015258789,85.9000015258789,85.62999725341797,86.12999725341797,86.05999755859375,86.58999633789062,87.66000366210938,88.19999694824219,88.6500015258789,87.86000061035156,88.12999725341797,88.66999816894531,90.0999984741211,89.08000183105469,89.80000305175781,90.13999938964844,90.0,91.9000015258789,92.55000305175781,92.47000122070312,93.12000274658203,95.13999938964844,93.30000305175781,93.75,94.79000091552734,93.63999938964844,90.55999755859375,86.88999938964844,90.48999786376953,89.70999908447266,86.30000305175781,88.73999786376953,88.93000030517578,88.51000213623047,91.20999908447266,92.44999694824219,91.4800033569336,92.9800033569336,92.05000305175781,93.5999984741211,94.4000015258789,95.73999786376953,94.83999633789062,93.98999786376953,91.58000183105469,92.33999633789062,94.33999633789062,93.16000366210938,94.2699966430664,95.29000091552734,96.5,97.0,95.12000274658203,93.52999877929688,94.68000030517578,93.73999786376953,93.05000305175781,92.93000030517578,91.2699966430664,89.5,90.61000061035156,94.94000244140625,89.81999969482422,90.18000030517578,90.47000122070312,89.58000183105469,87.8499984741211,92.44000244140625,91.48999786376953,91.04000091552734,92.38999938964844,92.01000213623047,92.43000030517578,94.05000305175781,94.06999969482422,95.0,96.22000122070312,96.44000244140625,95.91000366210938,95.73999786376953,96.23999786376953,93.30000305175781,93.55000305175781,97.5999984741211,96.33000183105469,93.20999908447266,94.98999786376953,92.95999908447266,93.31999969482422,95.16999816894531,95.8499984741211,96.01000213623047,97.45999908447266,97.80000305175781,97.91999816894531,97.23999786376953,97.36000061035156,96.76000213623047,96.01000213623047,97.0,97.68000030517578,96.70999908447266,98.7300033569336,98.30000305175781,97.83999633789062,98.30999755859375,99.29000091552734,99.27999877929688,101.26000213623047,102.0,102.4800033569336,102.6500015258789,101.08999633789062,101.01000213623047,101.0999984741211,101.72000122070312,101.6500015258789,101.51000213623047,100.01000213623047,99.6500015258789,101.37000274658203,102.08000183105469,100.41000366210938,100.0,98.81999969482422,99.58000183105469,97.37999725341797,98.93000030517578,98.0999984741211,100.4800033569336,99.5,99.88999938964844,101.6500015258789,102.0,101.1500015258789,102.7699966430664,104.37000274658203,105.4000015258789,104.61000061035156,105.94000244140625,104.93000030517578,108.08000183105469,106.30000305175781,108.56999969482422,107.95999908447266,110.73999786376953,110.18000030517578,107.19000244140625,106.48999786376953,106.02999877929688,105.4000015258789,107.80000305175781,108.12000274658203,108.55999755859375,109.33000183105469,109.70999908447266,109.41999816894531,109.23999786376953,108.55999755859375,108.48999786376953,108.30000305175781,107.36000061035156,107.51000213623047,106.91999816894531,105.8499984741211,107.1500015258789,107.66999816894531,109.2699966430664,109.94000244140625,110.44999694824219,111.66999816894531,111.69000244140625,110.8499984741211,111.01000213623047,108.25,108.2300033569336,108.83999633789062,108.9000015258789,111.43000030517578,112.12000274658203,113.36000061035156,113.69000244140625,112.19000244140625,113.05000305175781,112.27999877929688,114.0,113.02999877929688,114.80000305175781,114.47000122070312,114.77999877929688,114.19000244140625,114.75,115.30000305175781,115.41999816894531,114.61000061035156,112.62999725341797,111.66000366210938,111.13999938964844,111.23999786376953,105.3499984741211,109.01000213623047,108.91000366210938,109.54000091552734,111.68000030517578,110.0999984741211,108.93000030517578,109.31999969482422,107.7699966430664,108.41000366210938,106.55000305175781,105.69000244140625,108.11000061035156,103.66000366210938,105.44000244140625,107.05000305175781,106.4800033569336,106.37000274658203,107.37999725341797,109.44000244140625,111.80000305175781,110.8499984741211,109.41999816894531,107.55000305175781,108.0999984741211,104.98999786376953,107.08000183105469,108.2699966430664,101.80000305175781,103.5999984741211,102.16999816894531,104.79000091552734,106.2699966430664,107.88999938964844,110.33000183105469,110.69999694824219,113.0,111.94000244140625,105.81999969482422,108.37999725341797,104.80000305175781,109.80000305175781,110.88999938964844,109.58000183105469,108.25,105.41000366210938,103.75,103.6500015258789,103.05000305175781,101.62999725341797,97.68000030517578,95.13999938964844,99.30000305175781,102.08999633789062,101.29000091552734,99.55000305175781,100.0999984741211,99.72000122070312,101.63999938964844,103.04000091552734,103.86000061035156,103.22000122070312,103.19000244140625,101.9000015258789,102.51000213623047,105.26000213623047,105.0,107.45999908447266,106.75,106.12000274658203,106.86000061035156,107.23999786376953,106.26000213623047,104.87999725341797,104.62000274658203,103.80000305175781,103.77999877929688,102.87000274658203,106.05999755859375,107.0,105.19000244140625,104.38999938964844,106.19999694824219,106.13999938964844,107.5,106.30999755859375,107.91000366210938,107.79000091552734,107.86000061035156,106.9000015258789,110.05000305175781,111.76000213623047,111.26000213623047,111.69000244140625,112.04000091552734,112.88999938964844,113.0199966430664,112.25,111.87000274658203,111.4000015258789,109.16000366210938,110.98999786376953,112.81999969482422,114.12999725341797,114.54000091552734,115.33999633789062,116.16999816894531,118.08999633789062,117.38999938964844,117.13999938964844,119.5,116.55999755859375,118.62000274658203,117.87999725341797,117.44000244140625,118.06999969482422,118.94999694824219,119.05999755859375,119.86000061035156,120.0999984741211,119.38999938964844,119.80999755859375,118.62999725341797,119.76000213623047,120.54000091552734,120.63999938964844,120.94000244140625,121.63999938964844,121.23999786376953,122.19000244140625,122.62000274658203,124.0999984741211,125.79000091552734,130.05999755859375,129.6999969482422,129.89999389648438,129.80999755859375,130.52999877929688,127.9800033569336,127.36000061035156,126.38999938964844,126.45999908447266,125.44000244140625,124.29000091552734,124.91000366210938,124.11000061035156,123.87000274658203,124.26000213623047,126.75,128.30999755859375,126.5199966430664,127.43000030517578,126.62000274658203,126.19999694824219,126.91000366210938,126.9800033569336,125.37999725341797,125.26000213623047,124.2300033569336,123.8499984741211,121.27999877929688,124.94999694824219,126.44000244140625,129.19000244140625,132.39999389648438,133.8800048828125,131.39999389648438,131.97999572753906,132.25999450683594,132.6300048828125,134.19000244140625,135.0,137.4499969482422,136.5800018310547,137.0,137.25,134.35000610351562,134.13999938964844,134.57000732421875,136.6300048828125,136.1199951171875,136.8000030517578,135.94000244140625,136.39999389648438,136.0,137.1300048828125,138.1999969482422,138.85000610351562,139.44000244140625,138.9600067138672,137.6999969482422,135.5500030517578,140.22000122070312,137.41000366210938,139.75999450683594,138.89999389648438,140.42999267578125,140.3699951171875,141.5,140.13999938964844,140.3300018310547,137.0,138.08999633789062,133.3000030517578,133.8000030517578,133.7899932861328,136.60000610351562,138.61000061035156,137.07000732421875,136.0500030517578,136.36000061035156,134.38999938964844,134.8800048828125,137.85000610351562,138.2100067138672,138.5500030517578,138.66000366210938,137.19000244140625,134.99000549316406,136.38999938964844,134.8800048828125,137.25,139.14999389648438,136.61000061035156,137.3000030517578,139.11000061035156,140.02999877929688,139.58999633789062,136.8000030517578,135.91000366210938,137.85000610351562,137.77999877929688,135.8300018310547,136.9600067138672,137.36000061035156,140.3000030517578,141.00999450683594,139.22999572753906,140.36000061035156,137.5,139.44000244140625,140.14999389648438,138.0500030517578,139.66000366210938,136.25,134.9499969482422,136.75,137.13999938964844,137.0800018310547,137.4600067138672,138.49000549316406,140.1199951171875,139.69000244140625,140.05999755859375,140.7899932861328,140.9499969482422,139.75999450683594,138.4499969482422,138.97000122070312,136.8800048828125,139.38999938964844,139.33999633789062,144.39999389648438,144.0800018310547,143.52000427246094,144.89999389648438,144.25999450683594,144.8300018310547,144.97000122070312,144.3699951171875,143.83999633789062,143.97999572753906,145.33999633789062,146.27999877929688,146.74000549316406,147.02000427246094,148.92999267578125,150.07000732421875,150.8800048828125,150.30999755859375,149.39999389648438,150.07000732421875,150.0,151.36000061035156,152.3300018310547,152.10000610351562,151.80999755859375,147.49000549316406,150.13999938964844,150.0500030517578,150.99000549316406,151.07000732421875,151.2899932861328,151.5399932861328,151.64999389648438,153.0,155.11000061035156,155.4499969482422,154.3000030517578,154.0,157.35000610351562,158.1199951171875,157.47999572753906,157.55999755859375,159.4499969482422,158.99000549316406,156.77000427246094,158.77999877929688,158.32000732421875,157.0800018310547,159.32000732421875,158.92999267578125,161.83999633789062,162.82000732421875,161.75999450683594,163.38999938964844,162.6199951171875,164.35000610351562,167.4199981689453,166.67999267578125,167.39999389648438,166.19000244140625,167.50999450683594,161.14999389648438,163.77999877929688,167.83999633789062,174.0500030517578,172.2100067138672,170.42999267578125,177.13999938964844,184.02999877929688,180.97000122070312,182.85000610351562,183.5800018310547,190.64999389648438,185.5800018310547,183.0800018310547,183.25,185.61000061035156,188.05999755859375,186.9499969482422,183.1699981689453,167.77000427246094,174.1999969482422,169.7100067138672,163.32000732421875,152.41000366210938,165.30999755859375,173.8000030517578,168.49000549316406,166.0500030517578,162.61000061035156,151.0,158.16000366210938,157.1300048828125,145.3000030517578,147.5,140.0,140.0,138.0,142.77000427246094,146.0,137.00999450683594,143.75,148.91000366210938,148.39999389648438,151.75,152.44000244140625,159.39999389648438,153.0,151.86000061035156,155.10000610351562,160.32000732421875,169.58999633789062,165.6699981689453,166.36000061035156,164.35000610351562,169.0,171.1999969482422,174.3000030517578,179.5,176.6300048828125,173.5,171.38999938964844,174.11000061035156,172.05999755859375,176.58999633789062,175.58999633789062,173.22000122070312,180.0,175.8000030517578,174.49000549316406,180.6199951171875,182.0800018310547,184.1699981689453,184.97999572753906,183.14999389648438,186.8000030517578,182.5500030517578,177.5399932861328,179.05999755859375,185.75,185.02999877929688,184.80999755859375,185.39999389648438,183.19000244140625,186.33999633789062,180.1999969482422,180.74000549316406,182.72999572753906,182.5399932861328,184.25,184.82000732421875,184.3000030517578,182.6199951171875,185.94000244140625,188.0,191.1300048828125,193.1300048828125,190.5399932861328,184.5800018310547,192.88999938964844,195.02999877929688,194.0,198.58999633789062,195.7899932861328,202.08999633789062,201.60000610351562,197.8000030517578,199.72999572753906,195.77999877929688,197.8800048828125,203.13999938964844,205.67999267578125,208.8300018310547,210.4499969482422,210.07000732421875,216.3300018310547,213.6199951171875,214.47999572753906,206.1300048828125,209.55999755859375,205.39999389648438,204.47000122070312,205.0,213.66000366210938,209.1999969482422,207.19000244140625,200.4199981689453,201.47000122070312,203.61000061035156,202.5,201.0,204.39999389648438,211.52000427246094,214.1699981689453,214.89999389648438,212.33999633789062,214.85000610351562,211.6699981689453,207.16000366210938,205.2899932861328,209.44000244140625,208.75999450683594,209.60000610351562,210.52999877929688,211.49000549316406,209.5399932861328,213.86000061035156,214.7899932861328,213.10000610351562,217.8800048828125,222.88999938964844,228.17999267578125,227.0,225.50999450683594,227.97000122070312,229.27000427246094,215.10000610351562,206.5,207.60000610351562,213.39999389648438,207.1999969482422,204.24000549316406,208.4199981689453,210.6199951171875,200.0500030517578,202.8000030517578,197.19000244140625,205.05999755859375,207.89999389648438,199.85000610351562,203.5500030517578,210.8800048828125,209.35000610351562,207.72999572753906,213.49000549316406,208.0,207.22000122070312,208.82000732421875,207.05999755859375,210.50999450683594,211.22999572753906,218.7899932861328,222.72000122070312,223.0,217.10000610351562,220.14999389648438,220.4199981689453,215.8000030517578,213.1199951171875,213.92999267578125,215.02999877929688,213.85000610351562,211.58999633789062,207.6699981689453,204.07000732421875,203.5,204.2899932861328,203.88999938964844,214.02000427246094,222.0399932861328,222.25999450683594,224.44000244140625,214.5,212.38999938964844,217.2100067138672,216.36000061035156,214.8699951171875,216.10000610351562,213.64999389648438,211.3800048828125,212.1999969482422,210.9499969482422,209.58999633789062,215.11000061035156,214.85000610351562,214.10000610351562,214.50999450683594,214.8800048828125,214.61000061035156,214.22000122070312,214.3699951171875,213.97000122070312,215.16000366210938,211.77000427246094,210.0500030517578,213.10000610351562,215.1699981689453,214.75,219.8699951171875,218.58999633789062,217.5500030517578,222.69000244140625,223.11000061035156,221.4199981689453,224.4499969482422,226.30999755859375,225.22999572753906,221.6999969482422,222.52999877929688,217.25999450683594,212.1699981689453,214.0399932861328,218.67999267578125,218.47000122070312,216.5,214.02000427246094,215.91000366210938,213.52000427246094,213.75,217.6999969482422,224.6999969482422,227.0800018310547,229.1199951171875,231.86000061035156,238.0,235.61000061035156,235.99000549316406,235.05999755859375,241.3000030517578,239.57000732421875,242.66000366210938,242.22999572753906,243.14999389648438,241.8699951171875,245.0,244.77999877929688,243.92999267578125,245.02999877929688,241.32000732421875,241.8000030517578,243.75,237.4199981689453,230.3300018310547,230.00999450683594,232.0800018310547,231.52999877929688,235.89999389648438,237.00999450683594,232.16000366210938,226.74000549316406,229.52000427246094,231.3699951171875,232.8800048828125,237.0,234.9600067138672,234.00999450683594,234.9600067138672,236.27999877929688,236.14999389648438,232.55999755859375,231.02000427246094,230.27000427246094,237.49000549316406,237.85000610351562,235.3000030517578,231.5500030517578,236.58999633789062,233.52999877929688,232.91000366210938,238.47000122070312,242.75999450683594,247.61000061035156,247.80999755859375,252.77000427246094,252.8699951171875,254.7100067138672,257.260009765625,257.4800109863281,257.92999267578125,259.4700012207031,260.19000244140625,257.82000732421875,258.94000244140625,260.2099914550781,257.8800048828125,261.6600036621094,261.5799865722656,256.0799865722656,255.4600067138672,249.74000549316406,253.39999389648438,250.97000122070312,249.05999755859375,246.4499969482422,252.14999389648438,250.8699951171875,244.5500030517578,242.1699981689453,241.8000030517578,245.5800018310547,246.5500030517578,246.27000427246094,239.30999755859375,243.9600067138672,247.57000732421875,247.7899932861328,251.77000427246094,251.42999267578125,251.1699981689453,251.0,251.22999572753906,248.1300048828125,245.22000122070312,247.75999450683594,249.97999572753906,255.16000366210938,253.80999755859375,254.2899932861328,257.989990234375,257.8999938964844,259.7699890136719,259.3999938964844,256.07000732421875,259.6300048828125,259.82000732421875,262.7200012207031,265.989990234375,266.1600036621094,266.2300109863281,266.19000244140625,268.8699951171875,270.69000244140625,269.6099853515625,272.82000732421875,278.0299987792969,279.3999938964844,276.8999938964844,275.7200012207031,279.1600036621094,277.5199890136719,282.3500061035156,282.0,282.07000732421875,278.92999267578125,278.0299987792969,278.8999938964844,283.8399963378906,287.3699951171875,289.0,289.42999267578125,288.989990234375,286.239990234375,285.1700134277344,286.3599853515625,285.4200134277344,286.2200012207031,286.8800048828125,288.510009765625,289.75,288.79998779296875,287.2099914550781,286.6300048828125,289.4800109863281,293.19000244140625,292.3900146484375,292.0400085449219,288.69000244140625,299.7200012207031,303.25,305.0199890136719,304.29998779296875,300.989990234375,298.989990234375,301.1199951171875,304.4200134277344,302.8699951171875,302.20001220703125,300.989990234375,301.010009765625,299.7799987792969,300.82000732421875,298.4200134277344,297.54998779296875,299.55999755859375,303.260009765625,303.760009765625,304.1700134277344,296.3299865722656,295.69000244140625,296.7300109863281,298.8500061035156,298.2300109863281,296.1400146484375,289.79998779296875,285.1000061035156,285.7099914550781,282.1199951171875,287.3999938964844,284.04998779296875,285.7799987792969,295.17999267578125,296.2200012207031,292.9200134277344,295.3399963378906,294.9100036621094,299.2099914550781,302.3399963378906,303.57000732421875,308.3500061035156,309.2099914550781,307.1700134277344,310.3999938964844,309.3599853515625,311.0,316.0,324.3299865722656,324.1300048828125,331.3599853515625,330.30999755859375,333.8999938964844,332.8900146484375,338.510009765625,337.29998779296875,337.1099853515625,334.57000732421875,331.25,333.9200134277344,337.5400085449219,335.67999267578125,338.94000244140625,338.17999267578125,342.6400146484375,344.6199951171875,337.04998779296875,336.2799987792969,334.3500061035156,334.94000244140625,335.32000732421875,335.1300048828125,330.29998779296875,331.989990234375,323.95001220703125,331.6400146484375,335.30999755859375,334.4100036621094,334.9800109863281,340.67999267578125,333.2200012207031,328.6099853515625,335.7099914550781,320.8800048828125,320.04998779296875,323.2900085449219,328.29998779296875,332.75,335.4599914550781,343.1499938964844,341.29998779296875,341.9100036621094,338.510009765625,335.3500061035156,334.8299865722656,325.8599853515625,313.1499938964844,314.1499938964844,309.489990234375,313.3800048828125,319.6700134277344,320.4700012207031,304.25,304.07000732421875,306.2900085449219,309.07000732421875,302.69000244140625,292.20001220703125,291.5199890136719,307.989990234375,302.6600036621094,300.2300109863281,308.95001220703125,310.4100036621094,309.6300048828125,309.489990234375,300.2099914550781,306.1700134277344,301.25,309.8699951171875,304.0400085449219,303.19000244140625,293.7699890136719,300.010009765625,298.3699951171875,296.3599853515625,293.04998779296875,285.0,290.17999267578125,272.510009765625,295.1400146484375,294.30999755859375,296.3999938964844,295.3599853515625,302.8900146484375,294.2900085449219,288.5299987792969,277.79998779296875,283.44000244140625,283.0199890136719,287.9599914550781,280.3399963378906,280.3500061035156,289.1099853515625,293.2900085449219,295.3699951171875,298.8900146484375,299.79998779296875,300.510009765625,299.1400146484375,305.2300109863281,304.3299865722656,313.9100036621094,313.760009765625,313.8999938964844,309.3699951171875,310.0899963378906,313.2699890136719,305.19000244140625,296.6600036621094,300.44000244140625,291.7900085449219,289.239990234375,282.7300109863281,288.0899963378906,278.9100036621094,279.3800048828125,289.3999938964844,288.5799865722656,281.67999267578125,273.2900085449219,277.5,282.1000061035156,285.19000244140625],\"xaxis\":\"x\",\"y\":[31954400,23906100,28928000,21749400,19128800,18566100,22858400,17977800,28789400,18714100,31530300,34956000,30548800,25201300,26961100,16237600,15425800,14593900,21854100,19827900,17072800,30436400,21603600,34770300,33316800,31511100,22301800,24588300,49187400,47761700,25258600,25510700,26068700,48345100,23798300,21512200,19891100,22965700,27617300,19607000,25215100,25806200,28918700,24161100,16165500,21176300,21117600,16878300,15014500,17460000,17750900,20269800,25868100,21803900,26435300,22416200,42361000,46717100,21394800,22018700,16252200,36844200,18306700,23600100,22132300,26499200,18214400,22579000,18705700,22044600,22213400,24734500,21443700,20096600,19181400,18150400,22977500,18761500,17734800,14343700,13766500,17098300,12794300,14569700,11478400,16897800,27652800,21736200,21556000,16535800,17471200,14703800,17910400,14394900,13380800,15733900,38578400,23307000,16093300,21587900,19186100,14111400,24149200,18019600,19565100,10883800,17079100,15304800,12190400,13317700,21195300,13959800,11386500,13944500,15388900,16876500,15335700,12380100,16824000,13300700,15092800,22866400,20627200,17517200,20410800,32120700,71066700,31756700,27086600,22307400,23992900,17633500,19860900,17939700,18034200,21178400,19397800,14196900,18801300,19383100,20962800,22079000,16315000,21237500,20553100,7425600,18265200,21926000,27381100,33054600,29532100,39094900,26152300,26162100,23184500,24489100,22857900,23924100,22062700,19306000,53936700,22283800,23524800,23674900,17990700,14145800,9891200,14678000,10594300,18717400,22483800,26061400,21912000,23407100,22113000,19484300,18652200,17808900,24271500,36599700,25621200,24159700,36875000,23601600,23412800,33277500,26383200,29172200,31569900,38635100,48756300,47227900,47867800,51031500,67998600,41107600,55628700,63499100,35720300,26407700,34960900,27823900,30596900,30911700,26922500,24392800,26329200,30199800,25869100,31167300,37135600,32830400,23901600,22175800,26716100,25887800,36937300,26073700,35387800,32132000,27611000,49081300,33344100,23075200,24457100,38604700,44068900,56396800,56569000,52501100,45867500,48515400,37213800,35560000,29771900,38026000,31533900,26812000,24872100,26758900,23346100,20288100,26771000,21043300,23552500,31154400,22331800,34524800,33729300,42529000,48272800,41523600,31408900,27471000,31142500,22531300,24242000,23484600,27327400,22388100,16778300,19454100,24594000,17384700,17246700,17865800,19422500,15441200,21251200,26649300,18363900,28671000,22158500,34140900,28655600,27281600,23514400,21122900,28232200,22165100,23490900,18325200,29492900,25691800,65738600,23586000,28653100,26180800,23198200,38923100,35433300,26897200,31298400,26650700,28053200,19564500,14670300,18977400,19234600,18212000,19293100,19644600,24335900,24635200,21786900,25901700,29493900,40171600,56004000,29707000,26316600,30702100,31372100,37005300,34668300,27655200,23628700,26104300,18659600,20265900,16080200,15487500,13677200,18183700,18472500,16788300,29982800,21384300,18061500,17914200,22881900,18000600,18167700,17234000,19662300,19151500,20818000,22798700,23222700,22634600,32872400,23477600,22498600,20727900,24301800,18891100,26055600,19122300,20736500,22170900,21728400,23714500,71229700,27334500,22668000,19352000,19091300,21647800,18883100,20787200,16648000,34821700,29068900,29640600,26198600,61376300,63904300,47742100,32068100,31610200,26548200,32506200,32785500,26545600,43770400,63897800,61646800,55523100,55162000,65350900,51062400,33384200,37680200,27922100,24340200,37901700,25644100,32039200,33621800,35374600,39495100,38505200,33502100,44773900,64052500,28130600,13823100,32336200,29124500,46788500,28123200,33665600,34732800,45197000,49107400,45044900,40801500,42381900,36183000,31333400,47043100,56957300,49319200,68198200,70334200,111242100,43935200,51634800,49498500,38196300,33173800,35329300,42579100,44060600,35656100,31514400,32280800,30067600,28314200,28437100,31587600,29853900,28393000,37427600,32371300,25874300,23164800,31225600,29476700,31490500,49471900,55636400,35535700,31315100,27325400,20609800,29760700,21461100,18914100,25056600,18394900,21784700,26606900,18038500,21607700,29063200,27763200,23750600,21536700,21487100,29083900,23501200,26608000,19538300,17687000,25339000,22818400,26491600,26132700,35513800,30763400,54681100,31207600,37588700,28113300,29854400,33624500,27067100,26097700,22733400,18334800,25399800,22789100,18142300,22860700,20112800,15826200,15116200,17612000,16477200,14209100,19745100,15792600,14071800,19300900,27991000,15648700,24025500,31257000,38033900,23654900,16324200,24166500,26821700,27350200,24911100,24239800,36017700,28419000,27235800,30915100,33944900,25266300,24722700,30112200,25770500,23706900,15293300,15396500,23603800,14123400,23128400,22763100,16829600,26646800,37983600,29382600,24926100,21459000,33885600,26477100,23913700,17092500,17200800,17821700,14517800,25934500,23744400,33042600,36727900,20628800,33327400,23657700,16557500,30043000,22613500,15237800,13629300,18141100,16779700,19953100,24204400,22327900,18936800,16651500,22726100,20211000,30381800,48992400,25074900,18034600,20738300,18356900,19037600,16605900,16846500,38598800,40557500,30791600,42749600,32696700,33414500,27496500,23466700,20484300,25154600,32527300,28074400,24449100,24355700,21170800,14970300,18697000,38508600,20312600,23102100,17393300,20168700,23940100,18869300,17995900,26101800,20824500,25773900,28903400,24726100,27010000,23363100,16731400,17814200,23982100,35772100,39167300,17139300,29773200,21382000,17456600,22477700,17280900,21466600,30521700,24132900,22897700,15303700,25550500,19749900,17654600,25446000,13304300,19695700,20751600,21460600,32273500,20078200,27431000,29844600,37029300,25959700,35280100,20589500,18496600,24605100,33128400,16912000,18250200,16575800,17786700,16732700,14362600,18641600,16919200,19729800,23485700,21534000,23935700,25696800,18576100,15901800,22420900,24620100,15184400,11977300,27418400,24066000,17574700,17869100,16403500,16687400,16476100,18856600,24612100,23845400,24144200,25425600,24129200,24958900,53477500,17718200,8989200,14520600,18412800,16348400,18369400,22622100,21116200,20813700,21634100,27746500,21385000,20725900,21626500,23477400,21417900,23865400,34371700,29517200,24138800,19680800,24918100,32078100,24899900,34754500,51597500,36142700,30107000,36433300,39186300,27751400,33529100,35844300,53159900,47062900,35295800,23149500,27792200,29997500,36862400,48572600,68311100,68073300,56206100,93174900,97012700,71030800,71677000,49814400,47817300,72821100,70419300,65354400,56371600,93226400,92727400,87905900,81059800,81593200,85922700,84866200,78975200,82516700,75638200,64568100,57042300,63420300,77927200,57969900,49630700,41243300,67111700,62769000,48318200,51385100,41905300,52874300,40940800,50479600,52765600,36669600,56203700,34620200,32790800,34277600,33194400,34392700,51286600,53875900,39370500,30372900,36839200,32139300,28316000,30877800,30892700,32038200,44711500,41873900,46610400,35264500,26799100,31261300,29119500,20826900,36073600,39517100,33810200,42130400,22622400,30794600,27311000,28761800,39893600,33211600,29783900,43872300,52854700,43373600,32770200,42556700,25687800,23061600,44441100,32818900,30917400,36740600,27803900,54675800,26701600,34310300,32061200,29315800,31897600,33600700,33600000,33121700,26177600,38135600,37591800,32179400,29940700,31635300,36884800,37990400,49605700,67457000,39827000,30160900,23251400,19632600,25079600,51044000,78983000,49280100,28806400,32656800,27820400,36716500,36446500,28013100,22588900,17958900,20184800,21336200,27627600,26981500,36249300,25460100,23043700,39600800,57602200,26292900,28774200,25725500,34080800,58400300,59664100,52924300,45679000,35461500,33620100,30375800,21823900,26328100,34011300,55225300,39839700,33517100,30803800,31202500,29437300,32004900,24221900,33829100,27158400,33154800,21331600,28554300,25681100,19925800,26458000,40461400,28950800,23421700,22733100,26057900,27625800,22753500,22724900,22351500,18879600,37111600,36700300,51195600,31432600,36953700,30842200,27512000,42311800,36080100,25231900,44395000,44045100,29440800,21593900,18621100,24953300,24154100,28372800,24792700,22843100,25683500,33979700,21012900,14512200,33064800,30904500,23724500,25120900,24666000,24620000,23284100,32440600,26733300,30979400,28798400,27000600,35023300,32515800,63354900,37181900,22612200,18699600,10550600,17933500,17403200,20272300,20942100,37130100,23823000,35930700,27694500,22956200,23031300,23249300,20087100,29480800,31746500,30480900,37777300,30709400,30172700,33152100,49169600,69870600,49111200,42503100,33314200,25916300,27158100,25296100,18054800,22211900,23565000,22186700,15751100,16561100,26728500,21653500,16925600,25262600,36446900,30228700,26339700,39542200,37819200,25324000,22812500,34029500,44727800,41872800,35267400,33080500,29746800,29907600,22653700,26034900,28092200,29562100,34833000,46430700,30127000,31638400,25620100,34061900,25479900,25227500,24792000,43623500,30338000,36910600,22931900,22719800,23625200,24326800,27148700,23837500,23070900,25627500,24878600,23209300,19722900,24030400,25606200,21462600,19763300,31014200,46903100,40589000,30945100,19626600,32756100,21901300,26491100,27032900,29299900,33641600,36684400,29624300,23901100,24970200,20168000,25739800,21800700,21863100,21411500,17704300,17771600,24426200,18270200,23213300,19406700,25307700,25281100,23079200,22455000,17937600,24563600,18999700,19150500,18038900,27220000,27565500,37202200,26696100,24694100,19518700,21446900,25611100,19590000,19937800,21656500,16725300,26458000,31565600,23260000,24618600,23916700,18931700,26120100,23113700,22604200,26186800,32935600,26259700,24364300,23384100,22768100,23176100,33604100,33566900,18168300,20944800,16267400,17879000,16191300,13900200,16589300,16117600,18616600,13955900,14561300,18249000,22507600,20075300,21813000,29850500,40817600,22830200,18175800,20006100,17666100,22605700,16348100,26285300,18983800,16285600,14747900,17180400,15046800,19927000,19633400,23652900,21853400,28356300,19550800,41372500,38278700,22364100,26626300,18604600,14999000,23571700,43186200,26353700,32343600,30086300,31350700,24993000,28002600,20430500,17685700,19298600,17974100,23416300,27262900,25384800,22729300,17682100,16537100,16918100,17449300,17554500,28107300,52588700,26297900,34766000,27073200,26487100,21500100,23992200,22570100,20897000,21307400,25500900,16849800,23831000,16723000,20886800,19053400,22463500,21963400,31031100,30427600,21661300,24217200,28563500,42885600,33337600,30766000,41779300,30032600,31021900,24761000,22214200,38095700,28899400,44438700,35381100,35034800,47750300,28326500,24740600,24831500,19617800,19947000,15661500,15042000,15994500,18000800,28865100,32674300,40054300,39646100,32720000,44289500,29386800,34372200,45366000,39846400,42333200,45933900,35380700,57984400,85731500,72848600,90428900,53481300,49743700,46444500,40950400,36636000,43730000,35096500,28533300,32421200,31284700,45386200,39175600,36359500,27058300,29982100,32461600,34264000,41736100,37811200,56989700,32546700,34627500,31217800,31873000,27314500,32356500,43157200,48159500,35204500,30628000,27209300,30660700,34245100,37826300,30816600,43390600,28351200,27599700,25715400,24484500,22566500,29578200,30393400,28163600,33422100,27085100,24289600,23156700,40110400,31411200,24347400,34569300,30966700,21907200,28107900,20778000,22297700,22906700,29454600,29379300,35678900,46518400,63477700,32962000],\"yaxis\":\"y\",\"type\":\"scattergl\"}],                        {\"template\":{\"data\":{\"bar\":[{\"error_x\":{\"color\":\"#2a3f5f\"},\"error_y\":{\"color\":\"#2a3f5f\"},\"marker\":{\"line\":{\"color\":\"#E5ECF6\",\"width\":0.5},\"pattern\":{\"fillmode\":\"overlay\",\"size\":10,\"solidity\":0.2}},\"type\":\"bar\"}],\"barpolar\":[{\"marker\":{\"line\":{\"color\":\"#E5ECF6\",\"width\":0.5},\"pattern\":{\"fillmode\":\"overlay\",\"size\":10,\"solidity\":0.2}},\"type\":\"barpolar\"}],\"carpet\":[{\"aaxis\":{\"endlinecolor\":\"#2a3f5f\",\"gridcolor\":\"white\",\"linecolor\":\"white\",\"minorgridcolor\":\"white\",\"startlinecolor\":\"#2a3f5f\"},\"baxis\":{\"endlinecolor\":\"#2a3f5f\",\"gridcolor\":\"white\",\"linecolor\":\"white\",\"minorgridcolor\":\"white\",\"startlinecolor\":\"#2a3f5f\"},\"type\":\"carpet\"}],\"choropleth\":[{\"colorbar\":{\"outlinewidth\":0,\"ticks\":\"\"},\"type\":\"choropleth\"}],\"contour\":[{\"colorbar\":{\"outlinewidth\":0,\"ticks\":\"\"},\"colorscale\":[[0.0,\"#0d0887\"],[0.1111111111111111,\"#46039f\"],[0.2222222222222222,\"#7201a8\"],[0.3333333333333333,\"#9c179e\"],[0.4444444444444444,\"#bd3786\"],[0.5555555555555556,\"#d8576b\"],[0.6666666666666666,\"#ed7953\"],[0.7777777777777778,\"#fb9f3a\"],[0.8888888888888888,\"#fdca26\"],[1.0,\"#f0f921\"]],\"type\":\"contour\"}],\"contourcarpet\":[{\"colorbar\":{\"outlinewidth\":0,\"ticks\":\"\"},\"type\":\"contourcarpet\"}],\"heatmap\":[{\"colorbar\":{\"outlinewidth\":0,\"ticks\":\"\"},\"colorscale\":[[0.0,\"#0d0887\"],[0.1111111111111111,\"#46039f\"],[0.2222222222222222,\"#7201a8\"],[0.3333333333333333,\"#9c179e\"],[0.4444444444444444,\"#bd3786\"],[0.5555555555555556,\"#d8576b\"],[0.6666666666666666,\"#ed7953\"],[0.7777777777777778,\"#fb9f3a\"],[0.8888888888888888,\"#fdca26\"],[1.0,\"#f0f921\"]],\"type\":\"heatmap\"}],\"heatmapgl\":[{\"colorbar\":{\"outlinewidth\":0,\"ticks\":\"\"},\"colorscale\":[[0.0,\"#0d0887\"],[0.1111111111111111,\"#46039f\"],[0.2222222222222222,\"#7201a8\"],[0.3333333333333333,\"#9c179e\"],[0.4444444444444444,\"#bd3786\"],[0.5555555555555556,\"#d8576b\"],[0.6666666666666666,\"#ed7953\"],[0.7777777777777778,\"#fb9f3a\"],[0.8888888888888888,\"#fdca26\"],[1.0,\"#f0f921\"]],\"type\":\"heatmapgl\"}],\"histogram\":[{\"marker\":{\"pattern\":{\"fillmode\":\"overlay\",\"size\":10,\"solidity\":0.2}},\"type\":\"histogram\"}],\"histogram2d\":[{\"colorbar\":{\"outlinewidth\":0,\"ticks\":\"\"},\"colorscale\":[[0.0,\"#0d0887\"],[0.1111111111111111,\"#46039f\"],[0.2222222222222222,\"#7201a8\"],[0.3333333333333333,\"#9c179e\"],[0.4444444444444444,\"#bd3786\"],[0.5555555555555556,\"#d8576b\"],[0.6666666666666666,\"#ed7953\"],[0.7777777777777778,\"#fb9f3a\"],[0.8888888888888888,\"#fdca26\"],[1.0,\"#f0f921\"]],\"type\":\"histogram2d\"}],\"histogram2dcontour\":[{\"colorbar\":{\"outlinewidth\":0,\"ticks\":\"\"},\"colorscale\":[[0.0,\"#0d0887\"],[0.1111111111111111,\"#46039f\"],[0.2222222222222222,\"#7201a8\"],[0.3333333333333333,\"#9c179e\"],[0.4444444444444444,\"#bd3786\"],[0.5555555555555556,\"#d8576b\"],[0.6666666666666666,\"#ed7953\"],[0.7777777777777778,\"#fb9f3a\"],[0.8888888888888888,\"#fdca26\"],[1.0,\"#f0f921\"]],\"type\":\"histogram2dcontour\"}],\"mesh3d\":[{\"colorbar\":{\"outlinewidth\":0,\"ticks\":\"\"},\"type\":\"mesh3d\"}],\"parcoords\":[{\"line\":{\"colorbar\":{\"outlinewidth\":0,\"ticks\":\"\"}},\"type\":\"parcoords\"}],\"pie\":[{\"automargin\":true,\"type\":\"pie\"}],\"scatter\":[{\"marker\":{\"colorbar\":{\"outlinewidth\":0,\"ticks\":\"\"}},\"type\":\"scatter\"}],\"scatter3d\":[{\"line\":{\"colorbar\":{\"outlinewidth\":0,\"ticks\":\"\"}},\"marker\":{\"colorbar\":{\"outlinewidth\":0,\"ticks\":\"\"}},\"type\":\"scatter3d\"}],\"scattercarpet\":[{\"marker\":{\"colorbar\":{\"outlinewidth\":0,\"ticks\":\"\"}},\"type\":\"scattercarpet\"}],\"scattergeo\":[{\"marker\":{\"colorbar\":{\"outlinewidth\":0,\"ticks\":\"\"}},\"type\":\"scattergeo\"}],\"scattergl\":[{\"marker\":{\"colorbar\":{\"outlinewidth\":0,\"ticks\":\"\"}},\"type\":\"scattergl\"}],\"scattermapbox\":[{\"marker\":{\"colorbar\":{\"outlinewidth\":0,\"ticks\":\"\"}},\"type\":\"scattermapbox\"}],\"scatterpolar\":[{\"marker\":{\"colorbar\":{\"outlinewidth\":0,\"ticks\":\"\"}},\"type\":\"scatterpolar\"}],\"scatterpolargl\":[{\"marker\":{\"colorbar\":{\"outlinewidth\":0,\"ticks\":\"\"}},\"type\":\"scatterpolargl\"}],\"scatterternary\":[{\"marker\":{\"colorbar\":{\"outlinewidth\":0,\"ticks\":\"\"}},\"type\":\"scatterternary\"}],\"surface\":[{\"colorbar\":{\"outlinewidth\":0,\"ticks\":\"\"},\"colorscale\":[[0.0,\"#0d0887\"],[0.1111111111111111,\"#46039f\"],[0.2222222222222222,\"#7201a8\"],[0.3333333333333333,\"#9c179e\"],[0.4444444444444444,\"#bd3786\"],[0.5555555555555556,\"#d8576b\"],[0.6666666666666666,\"#ed7953\"],[0.7777777777777778,\"#fb9f3a\"],[0.8888888888888888,\"#fdca26\"],[1.0,\"#f0f921\"]],\"type\":\"surface\"}],\"table\":[{\"cells\":{\"fill\":{\"color\":\"#EBF0F8\"},\"line\":{\"color\":\"white\"}},\"header\":{\"fill\":{\"color\":\"#C8D4E3\"},\"line\":{\"color\":\"white\"}},\"type\":\"table\"}]},\"layout\":{\"annotationdefaults\":{\"arrowcolor\":\"#2a3f5f\",\"arrowhead\":0,\"arrowwidth\":1},\"autotypenumbers\":\"strict\",\"coloraxis\":{\"colorbar\":{\"outlinewidth\":0,\"ticks\":\"\"}},\"colorscale\":{\"diverging\":[[0,\"#8e0152\"],[0.1,\"#c51b7d\"],[0.2,\"#de77ae\"],[0.3,\"#f1b6da\"],[0.4,\"#fde0ef\"],[0.5,\"#f7f7f7\"],[0.6,\"#e6f5d0\"],[0.7,\"#b8e186\"],[0.8,\"#7fbc41\"],[0.9,\"#4d9221\"],[1,\"#276419\"]],\"sequential\":[[0.0,\"#0d0887\"],[0.1111111111111111,\"#46039f\"],[0.2222222222222222,\"#7201a8\"],[0.3333333333333333,\"#9c179e\"],[0.4444444444444444,\"#bd3786\"],[0.5555555555555556,\"#d8576b\"],[0.6666666666666666,\"#ed7953\"],[0.7777777777777778,\"#fb9f3a\"],[0.8888888888888888,\"#fdca26\"],[1.0,\"#f0f921\"]],\"sequentialminus\":[[0.0,\"#0d0887\"],[0.1111111111111111,\"#46039f\"],[0.2222222222222222,\"#7201a8\"],[0.3333333333333333,\"#9c179e\"],[0.4444444444444444,\"#bd3786\"],[0.5555555555555556,\"#d8576b\"],[0.6666666666666666,\"#ed7953\"],[0.7777777777777778,\"#fb9f3a\"],[0.8888888888888888,\"#fdca26\"],[1.0,\"#f0f921\"]]},\"colorway\":[\"#636efa\",\"#EF553B\",\"#00cc96\",\"#ab63fa\",\"#FFA15A\",\"#19d3f3\",\"#FF6692\",\"#B6E880\",\"#FF97FF\",\"#FECB52\"],\"font\":{\"color\":\"#2a3f5f\"},\"geo\":{\"bgcolor\":\"white\",\"lakecolor\":\"white\",\"landcolor\":\"#E5ECF6\",\"showlakes\":true,\"showland\":true,\"subunitcolor\":\"white\"},\"hoverlabel\":{\"align\":\"left\"},\"hovermode\":\"closest\",\"mapbox\":{\"style\":\"light\"},\"paper_bgcolor\":\"white\",\"plot_bgcolor\":\"#E5ECF6\",\"polar\":{\"angularaxis\":{\"gridcolor\":\"white\",\"linecolor\":\"white\",\"ticks\":\"\"},\"bgcolor\":\"#E5ECF6\",\"radialaxis\":{\"gridcolor\":\"white\",\"linecolor\":\"white\",\"ticks\":\"\"}},\"scene\":{\"xaxis\":{\"backgroundcolor\":\"#E5ECF6\",\"gridcolor\":\"white\",\"gridwidth\":2,\"linecolor\":\"white\",\"showbackground\":true,\"ticks\":\"\",\"zerolinecolor\":\"white\"},\"yaxis\":{\"backgroundcolor\":\"#E5ECF6\",\"gridcolor\":\"white\",\"gridwidth\":2,\"linecolor\":\"white\",\"showbackground\":true,\"ticks\":\"\",\"zerolinecolor\":\"white\"},\"zaxis\":{\"backgroundcolor\":\"#E5ECF6\",\"gridcolor\":\"white\",\"gridwidth\":2,\"linecolor\":\"white\",\"showbackground\":true,\"ticks\":\"\",\"zerolinecolor\":\"white\"}},\"shapedefaults\":{\"line\":{\"color\":\"#2a3f5f\"}},\"ternary\":{\"aaxis\":{\"gridcolor\":\"white\",\"linecolor\":\"white\",\"ticks\":\"\"},\"baxis\":{\"gridcolor\":\"white\",\"linecolor\":\"white\",\"ticks\":\"\"},\"bgcolor\":\"#E5ECF6\",\"caxis\":{\"gridcolor\":\"white\",\"linecolor\":\"white\",\"ticks\":\"\"}},\"title\":{\"x\":0.05},\"xaxis\":{\"automargin\":true,\"gridcolor\":\"white\",\"linecolor\":\"white\",\"ticks\":\"\",\"title\":{\"standoff\":15},\"zerolinecolor\":\"white\",\"zerolinewidth\":2},\"yaxis\":{\"automargin\":true,\"gridcolor\":\"white\",\"linecolor\":\"white\",\"ticks\":\"\",\"title\":{\"standoff\":15},\"zerolinecolor\":\"white\",\"zerolinewidth\":2}}},\"xaxis\":{\"anchor\":\"y\",\"domain\":[0.0,1.0],\"title\":{\"text\":\"x\"}},\"yaxis\":{\"anchor\":\"x\",\"domain\":[0.0,1.0],\"title\":{\"text\":\"y\"}},\"legend\":{\"tracegroupgap\":0},\"margin\":{\"t\":60}},                        {\"responsive\": true}                    ).then(function(){\n",
              "                            \n",
              "var gd = document.getElementById('1415257b-60d8-477e-9c49-1ddf4b092c8c');\n",
              "var x = new MutationObserver(function (mutations, observer) {{\n",
              "        var display = window.getComputedStyle(gd).display;\n",
              "        if (!display || display === 'none') {{\n",
              "            console.log([gd, 'removed!']);\n",
              "            Plotly.purge(gd);\n",
              "            observer.disconnect();\n",
              "        }}\n",
              "}});\n",
              "\n",
              "// Listen for the removal of the full notebook cells\n",
              "var notebookContainer = gd.closest('#notebook-container');\n",
              "if (notebookContainer) {{\n",
              "    x.observe(notebookContainer, {childList: true});\n",
              "}}\n",
              "\n",
              "// Listen for the clearing of the current output cell\n",
              "var outputEl = gd.closest('.output');\n",
              "if (outputEl) {{\n",
              "    x.observe(outputEl, {childList: true});\n",
              "}}\n",
              "\n",
              "                        })                };                            </script>        </div>\n",
              "</body>\n",
              "</html>"
            ]
          },
          "metadata": {}
        }
      ]
    }
  ]
}