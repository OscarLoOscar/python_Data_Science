{
  "nbformat": 4,
  "nbformat_minor": 0,
  "metadata": {
    "colab": {
      "provenance": [],
      "authorship_tag": "ABX9TyOoeuKU4TA43C5ZoE73+T2t",
      "include_colab_link": true
    },
    "kernelspec": {
      "name": "python3",
      "display_name": "Python 3"
    },
    "language_info": {
      "name": "python"
    }
  },
  "cells": [
    {
      "cell_type": "markdown",
      "metadata": {
        "id": "view-in-github",
        "colab_type": "text"
      },
      "source": [
        "<a href=\"https://colab.research.google.com/github/OscarLoOscar/python_Data_Science/blob/main/lessson_1.ipynb\" target=\"_parent\"><img src=\"https://colab.research.google.com/assets/colab-badge.svg\" alt=\"Open In Colab\"/></a>"
      ]
    },
    {
      "cell_type": "code",
      "execution_count": 1,
      "metadata": {
        "colab": {
          "base_uri": "https://localhost:8080/"
        },
        "id": "SEoQ8zmDNIE2",
        "outputId": "681180dc-2617-464c-8de7-28c286e1943e"
      },
      "outputs": [
        {
          "output_type": "stream",
          "name": "stdout",
          "text": [
            "Requirement already satisfied: yfinance in /usr/local/lib/python3.10/dist-packages (0.2.31)\n",
            "Requirement already satisfied: pandas>=1.3.0 in /usr/local/lib/python3.10/dist-packages (from yfinance) (1.5.3)\n",
            "Requirement already satisfied: numpy>=1.16.5 in /usr/local/lib/python3.10/dist-packages (from yfinance) (1.23.5)\n",
            "Requirement already satisfied: requests>=2.31 in /usr/local/lib/python3.10/dist-packages (from yfinance) (2.31.0)\n",
            "Requirement already satisfied: multitasking>=0.0.7 in /usr/local/lib/python3.10/dist-packages (from yfinance) (0.0.11)\n",
            "Requirement already satisfied: lxml>=4.9.1 in /usr/local/lib/python3.10/dist-packages (from yfinance) (4.9.3)\n",
            "Requirement already satisfied: appdirs>=1.4.4 in /usr/local/lib/python3.10/dist-packages (from yfinance) (1.4.4)\n",
            "Requirement already satisfied: pytz>=2022.5 in /usr/local/lib/python3.10/dist-packages (from yfinance) (2023.3.post1)\n",
            "Requirement already satisfied: frozendict>=2.3.4 in /usr/local/lib/python3.10/dist-packages (from yfinance) (2.3.8)\n",
            "Requirement already satisfied: peewee>=3.16.2 in /usr/local/lib/python3.10/dist-packages (from yfinance) (3.17.0)\n",
            "Requirement already satisfied: beautifulsoup4>=4.11.1 in /usr/local/lib/python3.10/dist-packages (from yfinance) (4.11.2)\n",
            "Requirement already satisfied: html5lib>=1.1 in /usr/local/lib/python3.10/dist-packages (from yfinance) (1.1)\n",
            "Requirement already satisfied: soupsieve>1.2 in /usr/local/lib/python3.10/dist-packages (from beautifulsoup4>=4.11.1->yfinance) (2.5)\n",
            "Requirement already satisfied: six>=1.9 in /usr/local/lib/python3.10/dist-packages (from html5lib>=1.1->yfinance) (1.16.0)\n",
            "Requirement already satisfied: webencodings in /usr/local/lib/python3.10/dist-packages (from html5lib>=1.1->yfinance) (0.5.1)\n",
            "Requirement already satisfied: python-dateutil>=2.8.1 in /usr/local/lib/python3.10/dist-packages (from pandas>=1.3.0->yfinance) (2.8.2)\n",
            "Requirement already satisfied: charset-normalizer<4,>=2 in /usr/local/lib/python3.10/dist-packages (from requests>=2.31->yfinance) (3.3.2)\n",
            "Requirement already satisfied: idna<4,>=2.5 in /usr/local/lib/python3.10/dist-packages (from requests>=2.31->yfinance) (3.4)\n",
            "Requirement already satisfied: urllib3<3,>=1.21.1 in /usr/local/lib/python3.10/dist-packages (from requests>=2.31->yfinance) (2.0.7)\n",
            "Requirement already satisfied: certifi>=2017.4.17 in /usr/local/lib/python3.10/dist-packages (from requests>=2.31->yfinance) (2023.7.22)\n",
            "Requirement already satisfied: plotly in /usr/local/lib/python3.10/dist-packages (5.15.0)\n",
            "Requirement already satisfied: tenacity>=6.2.0 in /usr/local/lib/python3.10/dist-packages (from plotly) (8.2.3)\n",
            "Requirement already satisfied: packaging in /usr/local/lib/python3.10/dist-packages (from plotly) (23.2)\n"
          ]
        }
      ],
      "source": [
        "!pip install yfinance\n",
        "!pip install plotly\n",
        "# Colab 中為 PIP 命令添加感嘆號前綴的目的是表明該命令是 shell 命令而不是 Python 命令\n",
        "import yfinance as yf\n",
        "import plotly.graph_objects as go"
      ]
    },
    {
      "cell_type": "code",
      "source": [
        "df = yf.download(\n",
        "    tickers='TSLA',\n",
        "    period = '2d',\n",
        "    interval = '5m')\n",
        "print(df.head(10))\n",
        "\n",
        "fig = go.Figure()\n",
        "fig.add_trace(go.Candlestick(\n",
        "    x=df.index, open=df['Open'], high=df['High'], low=df['Low'], close=df['Close']\n",
        "))\n",
        "\n",
        "fig.show()"
      ],
      "metadata": {
        "colab": {
          "base_uri": "https://localhost:8080/",
          "height": 984
        },
        "id": "G5T6yjLEPR3g",
        "outputId": "234242c1-aac4-48eb-d7c8-6d7bcd8d8ff0"
      },
      "execution_count": 2,
      "outputs": [
        {
          "output_type": "stream",
          "name": "stdout",
          "text": [
            "\r[*********************100%%**********************]  1 of 1 completed\n",
            "                                 Open        High         Low       Close  \\\n",
            "Datetime                                                                    \n",
            "2023-11-24 09:30:00-05:00  233.750000  236.339905  232.330002  235.960007   \n",
            "2023-11-24 09:35:00-05:00  235.993805  236.199997  233.660004  235.149994   \n",
            "2023-11-24 09:40:00-05:00  235.119995  236.300003  234.320007  234.996399   \n",
            "2023-11-24 09:45:00-05:00  235.000000  235.940002  234.270004  235.630005   \n",
            "2023-11-24 09:50:00-05:00  235.619995  236.509995  235.250000  235.690002   \n",
            "2023-11-24 09:55:00-05:00  235.709900  236.580002  235.509995  236.010193   \n",
            "2023-11-24 10:00:00-05:00  236.000000  236.820007  235.860001  236.310806   \n",
            "2023-11-24 10:05:00-05:00  236.283203  236.500000  235.729996  235.860001   \n",
            "2023-11-24 10:10:00-05:00  235.860992  236.580002  235.550003  236.145004   \n",
            "2023-11-24 10:15:00-05:00  236.142197  236.169998  235.059998  235.289993   \n",
            "\n",
            "                            Adj Close   Volume  \n",
            "Datetime                                        \n",
            "2023-11-24 09:30:00-05:00  235.960007  4937099  \n",
            "2023-11-24 09:35:00-05:00  235.149994  2912386  \n",
            "2023-11-24 09:40:00-05:00  234.996399  2953870  \n",
            "2023-11-24 09:45:00-05:00  235.630005  2299522  \n",
            "2023-11-24 09:50:00-05:00  235.690002  2396880  \n",
            "2023-11-24 09:55:00-05:00  236.010193  2019075  \n",
            "2023-11-24 10:00:00-05:00  236.310806  2004233  \n",
            "2023-11-24 10:05:00-05:00  235.860001  1865793  \n",
            "2023-11-24 10:10:00-05:00  236.145004  1666387  \n",
            "2023-11-24 10:15:00-05:00  235.289993  1514974  \n"
          ]
        },
        {
          "output_type": "display_data",
          "data": {
            "text/html": [
              "<html>\n",
              "<head><meta charset=\"utf-8\" /></head>\n",
              "<body>\n",
              "    <div>            <script src=\"https://cdnjs.cloudflare.com/ajax/libs/mathjax/2.7.5/MathJax.js?config=TeX-AMS-MML_SVG\"></script><script type=\"text/javascript\">if (window.MathJax && window.MathJax.Hub && window.MathJax.Hub.Config) {window.MathJax.Hub.Config({SVG: {font: \"STIX-Web\"}});}</script>                <script type=\"text/javascript\">window.PlotlyConfig = {MathJaxConfig: 'local'};</script>\n",
              "        <script charset=\"utf-8\" src=\"https://cdn.plot.ly/plotly-2.24.1.min.js\"></script>                <div id=\"2d825a85-9608-4a58-8339-bd236494640c\" class=\"plotly-graph-div\" style=\"height:525px; width:100%;\"></div>            <script type=\"text/javascript\">                                    window.PLOTLYENV=window.PLOTLYENV || {};                                    if (document.getElementById(\"2d825a85-9608-4a58-8339-bd236494640c\")) {                    Plotly.newPlot(                        \"2d825a85-9608-4a58-8339-bd236494640c\",                        [{\"close\":[235.9600067138672,235.14999389648438,234.99639892578125,235.6300048828125,235.69000244140625,236.01019287109375,236.31080627441406,235.86000061035156,236.14500427246094,235.2899932861328,234.9600067138672,235.35980224609375,235.9499969482422,236.5998992919922,236.89999389648438,237.55999755859375,237.5601043701172,238.10220336914062,238.38999938964844,238.58999633789062,237.9499969482422,238.0,238.25999450683594,237.84710693359375,238.0050048828125,237.83999633789062,237.5749969482422,237.3300018310547,237.58999633789062,237.14999389648438,236.71420288085938,237.1199951171875,237.19979858398438,237.08990478515625,237.0601043701172,237.35000610351562,236.99749755859375,236.7899932861328,236.39999389648438,235.92999267578125,233.1425018310547,233.50999450683594,232.53750610351562,233.88999938964844,233.9683074951172,234.13999938964844,233.55999755859375,234.1699981689453,234.4615020751953,234.7100067138672,234.02000427246094,234.19000244140625,235.25,236.03919982910156,235.92010498046875,235.86000061035156,235.3917999267578,235.38999938964844,234.26499938964844,234.1717071533203,233.86000061035156,233.94000244140625,234.11239624023438,234.3498992919922,234.34010314941406,234.91000366210938,234.875,235.05979919433594,235.02999877929688,235.35000610351562,235.80999755859375,235.99009704589844,235.9600067138672,236.43080139160156,236.65199279785156,236.97999572753906,236.9001007080078,236.85000610351562,237.52000427246094,237.5325927734375,237.32000732421875,237.47000122070312,238.0500030517578,237.6614990234375,238.13999938964844,237.44000244140625,237.197998046875,237.44000244140625,237.23989868164062,236.92999267578125,236.74000549316406,236.9001007080078,237.0399932861328,237.2707061767578,237.27499389648438,237.83999633789062,237.79989624023438,237.1219024658203,237.27000427246094,237.08160400390625,237.34930419921875,237.05999755859375,236.3314971923828,236.0399932861328,236.0718994140625,236.25039672851562,236.13290405273438,236.49000549316406,236.08200073242188,235.97000122070312,236.75289916992188,236.64500427246094,236.6699981689453,237.10000610351562,236.97000122070312,236.69000244140625,236.11000061035156,236.11000061035156],\"high\":[236.33990478515625,236.1999969482422,236.3000030517578,235.94000244140625,236.50999450683594,236.5800018310547,236.82000732421875,236.5,236.5800018310547,236.1699981689453,235.6300048828125,235.42999267578125,236.08990478515625,236.6699981689453,237.1999969482422,237.7899932861328,237.72999572753906,238.1699981689453,238.61000061035156,238.75,238.75,238.389892578125,238.39999389648438,238.3300018310547,238.22000122070312,238.22000122070312,237.8625030517578,238.0998992919922,237.8699951171875,237.8699951171875,237.1699981689453,237.13999938964844,237.3300018310547,237.19000244140625,237.30999755859375,237.60000610351562,237.52000427246094,237.0800018310547,236.8000030517578,236.39999389648438,237.8000030517578,233.9199981689453,233.75,234.52999877929688,234.8800048828125,234.75999450683594,234.6999969482422,234.19000244140625,234.57000732421875,235.55999755859375,235.32989501953125,234.5800018310547,235.36000061035156,236.19000244140625,236.22000122070312,236.34519958496094,236.0299072265625,235.9600067138672,235.39999389648438,234.2899932861328,234.1999969482422,234.17999267578125,234.3896026611328,234.39999389648438,234.60000610351562,234.9199981689453,235.16000366210938,235.3000030517578,235.2899932861328,235.49000549316406,235.83880615234375,236.16000366210938,236.08999633789062,236.5399932861328,236.74839782714844,237.0,237.14999389648438,237.1999969482422,237.58999633789062,237.75,237.63999938964844,237.47999572753906,238.08999633789062,238.25999450683594,238.17999267578125,238.3300018310547,237.4499969482422,237.50999450683594,237.44500732421875,237.49000549316406,236.95950317382812,236.9698944091797,237.25,237.33999633789062,237.49000549316406,237.88999938964844,237.9499969482422,237.83999633789062,237.33999633789062,237.3000030517578,237.5,237.6199951171875,237.10000610351562,236.5,236.19000244140625,236.27999877929688,236.4499969482422,236.53990173339844,236.60000610351562,236.17990112304688,236.80999755859375,236.8498992919922,236.7899932861328,237.17880249023438,237.1300048828125,237.10000610351562,237.02000427246094,236.2899932861328],\"low\":[232.3300018310547,233.66000366210938,234.32000732421875,234.27000427246094,235.25,235.50999450683594,235.86000061035156,235.72999572753906,235.5500030517578,235.05999755859375,234.75999450683594,234.69000244140625,235.17999267578125,235.94000244140625,236.5,236.72000122070312,237.0,237.3000030517578,238.07020568847656,238.24000549316406,237.9001007080078,237.8000030517578,237.89999389648438,237.54010009765625,237.72999572753906,237.47999572753906,237.3800048828125,237.1699981689453,237.30999755859375,237.02000427246094,236.6300048828125,236.69000244140625,236.8800048828125,236.77000427246094,236.72109985351562,237.05999755859375,236.85000610351562,236.6699981689453,236.27000427246094,235.92010498046875,233.13999938964844,232.6199951171875,232.44000244140625,232.10000610351562,233.38999938964844,233.25999450683594,233.33009338378906,233.0,233.69000244140625,234.07000732421875,233.8699951171875,233.89999389648438,234.19000244140625,235.0399932861328,235.6300048828125,235.42999267578125,235.27999877929688,235.33999633789062,234.1300048828125,233.8000030517578,233.5800018310547,233.57000732421875,233.77999877929688,233.60000610351562,234.02000427246094,234.33999633789062,234.80999755859375,234.72999572753906,234.9499969482422,235.0,235.10000610351562,235.75,235.58999633789062,235.77000427246094,236.20010375976562,236.62010192871094,236.6800994873047,236.7899932861328,236.85000610351562,237.47999572753906,237.13999938964844,237.11000061035156,237.38999938964844,237.5500030517578,237.50999450683594,237.41000366210938,236.9499969482422,236.94000244140625,237.05999755859375,236.85000610351562,236.5,236.5800018310547,236.72999572753906,236.86270141601562,237.22000122070312,237.05999755859375,237.69000244140625,237.02000427246094,236.82000732421875,236.88999938964844,236.97000122070312,237.0500030517578,236.02000427246094,235.82000732421875,235.80999755859375,235.72000122070312,236.10000610351562,235.94000244140625,236.07009887695312,235.75,235.8800048828125,236.60000610351562,236.50999450683594,236.50999450683594,236.94000244140625,236.65499877929688,236.0800018310547,235.9842071533203],\"open\":[233.75,235.99380493164062,235.1199951171875,235.0,235.6199951171875,235.70989990234375,236.0,236.283203125,235.86099243164062,236.14219665527344,235.27650451660156,234.9600067138672,235.36000061035156,235.9532928466797,236.5970001220703,236.89739990234375,237.5699005126953,237.5695037841797,238.1177978515625,238.3892059326172,238.57009887695312,238.11160278320312,238.02000427246094,238.26499938964844,237.82000732421875,238.0,237.8350067138672,237.5749969482422,237.3300018310547,237.56500244140625,237.14999389648438,236.71009826660156,237.11500549316406,237.19000244140625,237.07000732421875,237.05999755859375,237.35000610351562,236.98500061035156,236.7899932861328,236.39999389648438,236.88999938964844,233.19500732421875,233.5,232.5,233.9199981689453,233.9199981689453,234.1699981689453,233.55999755859375,234.17660522460938,234.4499969482422,234.7100067138672,234.0399932861328,234.19000244140625,235.24009704589844,236.00599670410156,235.93499755859375,235.84869384765625,235.39500427246094,235.36459350585938,234.26060485839844,234.16000366210938,233.84530639648438,233.94290161132812,234.1300048828125,234.3249969482422,234.36000061035156,234.89999389648438,234.875,235.07000732421875,235.03500366210938,235.3448944091797,235.82000732421875,235.99009704589844,235.97999572753906,236.43260192871094,236.66000366210938,236.97999572753906,236.91000366210938,236.86000061035156,237.5399932861328,237.53500366210938,237.3000030517578,237.4658966064453,238.0500030517578,237.67999267578125,238.14999389648438,237.42010498046875,237.19000244140625,237.44000244140625,237.22900390625,236.94000244140625,236.74000549316406,236.9055938720703,237.05499267578125,237.2899932861328,237.27000427246094,237.84500122070312,237.7801055908203,237.10000610351562,237.27000427246094,237.08309936523438,237.3300018310547,237.05999755859375,236.32020568847656,236.0500030517578,236.10000610351562,236.22999572753906,236.139892578125,236.48800659179688,236.091796875,235.9600067138672,236.75999450683594,236.66000366210938,236.6699981689453,237.10499572753906,236.9600067138672,236.70989990234375,236.10000610351562],\"x\":[\"2023-11-24T09:30:00-05:00\",\"2023-11-24T09:35:00-05:00\",\"2023-11-24T09:40:00-05:00\",\"2023-11-24T09:45:00-05:00\",\"2023-11-24T09:50:00-05:00\",\"2023-11-24T09:55:00-05:00\",\"2023-11-24T10:00:00-05:00\",\"2023-11-24T10:05:00-05:00\",\"2023-11-24T10:10:00-05:00\",\"2023-11-24T10:15:00-05:00\",\"2023-11-24T10:20:00-05:00\",\"2023-11-24T10:25:00-05:00\",\"2023-11-24T10:30:00-05:00\",\"2023-11-24T10:35:00-05:00\",\"2023-11-24T10:40:00-05:00\",\"2023-11-24T10:45:00-05:00\",\"2023-11-24T10:50:00-05:00\",\"2023-11-24T10:55:00-05:00\",\"2023-11-24T11:00:00-05:00\",\"2023-11-24T11:05:00-05:00\",\"2023-11-24T11:10:00-05:00\",\"2023-11-24T11:15:00-05:00\",\"2023-11-24T11:20:00-05:00\",\"2023-11-24T11:25:00-05:00\",\"2023-11-24T11:30:00-05:00\",\"2023-11-24T11:35:00-05:00\",\"2023-11-24T11:40:00-05:00\",\"2023-11-24T11:45:00-05:00\",\"2023-11-24T11:50:00-05:00\",\"2023-11-24T11:55:00-05:00\",\"2023-11-24T12:00:00-05:00\",\"2023-11-24T12:05:00-05:00\",\"2023-11-24T12:10:00-05:00\",\"2023-11-24T12:15:00-05:00\",\"2023-11-24T12:20:00-05:00\",\"2023-11-24T12:25:00-05:00\",\"2023-11-24T12:30:00-05:00\",\"2023-11-24T12:35:00-05:00\",\"2023-11-24T12:40:00-05:00\",\"2023-11-24T12:45:00-05:00\",\"2023-11-27T09:30:00-05:00\",\"2023-11-27T09:35:00-05:00\",\"2023-11-27T09:40:00-05:00\",\"2023-11-27T09:45:00-05:00\",\"2023-11-27T09:50:00-05:00\",\"2023-11-27T09:55:00-05:00\",\"2023-11-27T10:00:00-05:00\",\"2023-11-27T10:05:00-05:00\",\"2023-11-27T10:10:00-05:00\",\"2023-11-27T10:15:00-05:00\",\"2023-11-27T10:20:00-05:00\",\"2023-11-27T10:25:00-05:00\",\"2023-11-27T10:30:00-05:00\",\"2023-11-27T10:35:00-05:00\",\"2023-11-27T10:40:00-05:00\",\"2023-11-27T10:45:00-05:00\",\"2023-11-27T10:50:00-05:00\",\"2023-11-27T10:55:00-05:00\",\"2023-11-27T11:00:00-05:00\",\"2023-11-27T11:05:00-05:00\",\"2023-11-27T11:10:00-05:00\",\"2023-11-27T11:15:00-05:00\",\"2023-11-27T11:20:00-05:00\",\"2023-11-27T11:25:00-05:00\",\"2023-11-27T11:30:00-05:00\",\"2023-11-27T11:35:00-05:00\",\"2023-11-27T11:40:00-05:00\",\"2023-11-27T11:45:00-05:00\",\"2023-11-27T11:50:00-05:00\",\"2023-11-27T11:55:00-05:00\",\"2023-11-27T12:00:00-05:00\",\"2023-11-27T12:05:00-05:00\",\"2023-11-27T12:10:00-05:00\",\"2023-11-27T12:15:00-05:00\",\"2023-11-27T12:20:00-05:00\",\"2023-11-27T12:25:00-05:00\",\"2023-11-27T12:30:00-05:00\",\"2023-11-27T12:35:00-05:00\",\"2023-11-27T12:40:00-05:00\",\"2023-11-27T12:45:00-05:00\",\"2023-11-27T12:50:00-05:00\",\"2023-11-27T12:55:00-05:00\",\"2023-11-27T13:00:00-05:00\",\"2023-11-27T13:05:00-05:00\",\"2023-11-27T13:10:00-05:00\",\"2023-11-27T13:15:00-05:00\",\"2023-11-27T13:20:00-05:00\",\"2023-11-27T13:25:00-05:00\",\"2023-11-27T13:30:00-05:00\",\"2023-11-27T13:35:00-05:00\",\"2023-11-27T13:40:00-05:00\",\"2023-11-27T13:45:00-05:00\",\"2023-11-27T13:50:00-05:00\",\"2023-11-27T13:55:00-05:00\",\"2023-11-27T14:00:00-05:00\",\"2023-11-27T14:05:00-05:00\",\"2023-11-27T14:10:00-05:00\",\"2023-11-27T14:15:00-05:00\",\"2023-11-27T14:20:00-05:00\",\"2023-11-27T14:25:00-05:00\",\"2023-11-27T14:30:00-05:00\",\"2023-11-27T14:35:00-05:00\",\"2023-11-27T14:40:00-05:00\",\"2023-11-27T14:45:00-05:00\",\"2023-11-27T14:50:00-05:00\",\"2023-11-27T14:55:00-05:00\",\"2023-11-27T15:00:00-05:00\",\"2023-11-27T15:05:00-05:00\",\"2023-11-27T15:10:00-05:00\",\"2023-11-27T15:15:00-05:00\",\"2023-11-27T15:20:00-05:00\",\"2023-11-27T15:25:00-05:00\",\"2023-11-27T15:30:00-05:00\",\"2023-11-27T15:35:00-05:00\",\"2023-11-27T15:40:00-05:00\",\"2023-11-27T15:45:00-05:00\",\"2023-11-27T15:50:00-05:00\",\"2023-11-27T15:55:00-05:00\"],\"type\":\"candlestick\"}],                        {\"template\":{\"data\":{\"histogram2dcontour\":[{\"type\":\"histogram2dcontour\",\"colorbar\":{\"outlinewidth\":0,\"ticks\":\"\"},\"colorscale\":[[0.0,\"#0d0887\"],[0.1111111111111111,\"#46039f\"],[0.2222222222222222,\"#7201a8\"],[0.3333333333333333,\"#9c179e\"],[0.4444444444444444,\"#bd3786\"],[0.5555555555555556,\"#d8576b\"],[0.6666666666666666,\"#ed7953\"],[0.7777777777777778,\"#fb9f3a\"],[0.8888888888888888,\"#fdca26\"],[1.0,\"#f0f921\"]]}],\"choropleth\":[{\"type\":\"choropleth\",\"colorbar\":{\"outlinewidth\":0,\"ticks\":\"\"}}],\"histogram2d\":[{\"type\":\"histogram2d\",\"colorbar\":{\"outlinewidth\":0,\"ticks\":\"\"},\"colorscale\":[[0.0,\"#0d0887\"],[0.1111111111111111,\"#46039f\"],[0.2222222222222222,\"#7201a8\"],[0.3333333333333333,\"#9c179e\"],[0.4444444444444444,\"#bd3786\"],[0.5555555555555556,\"#d8576b\"],[0.6666666666666666,\"#ed7953\"],[0.7777777777777778,\"#fb9f3a\"],[0.8888888888888888,\"#fdca26\"],[1.0,\"#f0f921\"]]}],\"heatmap\":[{\"type\":\"heatmap\",\"colorbar\":{\"outlinewidth\":0,\"ticks\":\"\"},\"colorscale\":[[0.0,\"#0d0887\"],[0.1111111111111111,\"#46039f\"],[0.2222222222222222,\"#7201a8\"],[0.3333333333333333,\"#9c179e\"],[0.4444444444444444,\"#bd3786\"],[0.5555555555555556,\"#d8576b\"],[0.6666666666666666,\"#ed7953\"],[0.7777777777777778,\"#fb9f3a\"],[0.8888888888888888,\"#fdca26\"],[1.0,\"#f0f921\"]]}],\"heatmapgl\":[{\"type\":\"heatmapgl\",\"colorbar\":{\"outlinewidth\":0,\"ticks\":\"\"},\"colorscale\":[[0.0,\"#0d0887\"],[0.1111111111111111,\"#46039f\"],[0.2222222222222222,\"#7201a8\"],[0.3333333333333333,\"#9c179e\"],[0.4444444444444444,\"#bd3786\"],[0.5555555555555556,\"#d8576b\"],[0.6666666666666666,\"#ed7953\"],[0.7777777777777778,\"#fb9f3a\"],[0.8888888888888888,\"#fdca26\"],[1.0,\"#f0f921\"]]}],\"contourcarpet\":[{\"type\":\"contourcarpet\",\"colorbar\":{\"outlinewidth\":0,\"ticks\":\"\"}}],\"contour\":[{\"type\":\"contour\",\"colorbar\":{\"outlinewidth\":0,\"ticks\":\"\"},\"colorscale\":[[0.0,\"#0d0887\"],[0.1111111111111111,\"#46039f\"],[0.2222222222222222,\"#7201a8\"],[0.3333333333333333,\"#9c179e\"],[0.4444444444444444,\"#bd3786\"],[0.5555555555555556,\"#d8576b\"],[0.6666666666666666,\"#ed7953\"],[0.7777777777777778,\"#fb9f3a\"],[0.8888888888888888,\"#fdca26\"],[1.0,\"#f0f921\"]]}],\"surface\":[{\"type\":\"surface\",\"colorbar\":{\"outlinewidth\":0,\"ticks\":\"\"},\"colorscale\":[[0.0,\"#0d0887\"],[0.1111111111111111,\"#46039f\"],[0.2222222222222222,\"#7201a8\"],[0.3333333333333333,\"#9c179e\"],[0.4444444444444444,\"#bd3786\"],[0.5555555555555556,\"#d8576b\"],[0.6666666666666666,\"#ed7953\"],[0.7777777777777778,\"#fb9f3a\"],[0.8888888888888888,\"#fdca26\"],[1.0,\"#f0f921\"]]}],\"mesh3d\":[{\"type\":\"mesh3d\",\"colorbar\":{\"outlinewidth\":0,\"ticks\":\"\"}}],\"scatter\":[{\"fillpattern\":{\"fillmode\":\"overlay\",\"size\":10,\"solidity\":0.2},\"type\":\"scatter\"}],\"parcoords\":[{\"type\":\"parcoords\",\"line\":{\"colorbar\":{\"outlinewidth\":0,\"ticks\":\"\"}}}],\"scatterpolargl\":[{\"type\":\"scatterpolargl\",\"marker\":{\"colorbar\":{\"outlinewidth\":0,\"ticks\":\"\"}}}],\"bar\":[{\"error_x\":{\"color\":\"#2a3f5f\"},\"error_y\":{\"color\":\"#2a3f5f\"},\"marker\":{\"line\":{\"color\":\"#E5ECF6\",\"width\":0.5},\"pattern\":{\"fillmode\":\"overlay\",\"size\":10,\"solidity\":0.2}},\"type\":\"bar\"}],\"scattergeo\":[{\"type\":\"scattergeo\",\"marker\":{\"colorbar\":{\"outlinewidth\":0,\"ticks\":\"\"}}}],\"scatterpolar\":[{\"type\":\"scatterpolar\",\"marker\":{\"colorbar\":{\"outlinewidth\":0,\"ticks\":\"\"}}}],\"histogram\":[{\"marker\":{\"pattern\":{\"fillmode\":\"overlay\",\"size\":10,\"solidity\":0.2}},\"type\":\"histogram\"}],\"scattergl\":[{\"type\":\"scattergl\",\"marker\":{\"colorbar\":{\"outlinewidth\":0,\"ticks\":\"\"}}}],\"scatter3d\":[{\"type\":\"scatter3d\",\"line\":{\"colorbar\":{\"outlinewidth\":0,\"ticks\":\"\"}},\"marker\":{\"colorbar\":{\"outlinewidth\":0,\"ticks\":\"\"}}}],\"scattermapbox\":[{\"type\":\"scattermapbox\",\"marker\":{\"colorbar\":{\"outlinewidth\":0,\"ticks\":\"\"}}}],\"scatterternary\":[{\"type\":\"scatterternary\",\"marker\":{\"colorbar\":{\"outlinewidth\":0,\"ticks\":\"\"}}}],\"scattercarpet\":[{\"type\":\"scattercarpet\",\"marker\":{\"colorbar\":{\"outlinewidth\":0,\"ticks\":\"\"}}}],\"carpet\":[{\"aaxis\":{\"endlinecolor\":\"#2a3f5f\",\"gridcolor\":\"white\",\"linecolor\":\"white\",\"minorgridcolor\":\"white\",\"startlinecolor\":\"#2a3f5f\"},\"baxis\":{\"endlinecolor\":\"#2a3f5f\",\"gridcolor\":\"white\",\"linecolor\":\"white\",\"minorgridcolor\":\"white\",\"startlinecolor\":\"#2a3f5f\"},\"type\":\"carpet\"}],\"table\":[{\"cells\":{\"fill\":{\"color\":\"#EBF0F8\"},\"line\":{\"color\":\"white\"}},\"header\":{\"fill\":{\"color\":\"#C8D4E3\"},\"line\":{\"color\":\"white\"}},\"type\":\"table\"}],\"barpolar\":[{\"marker\":{\"line\":{\"color\":\"#E5ECF6\",\"width\":0.5},\"pattern\":{\"fillmode\":\"overlay\",\"size\":10,\"solidity\":0.2}},\"type\":\"barpolar\"}],\"pie\":[{\"automargin\":true,\"type\":\"pie\"}]},\"layout\":{\"autotypenumbers\":\"strict\",\"colorway\":[\"#636efa\",\"#EF553B\",\"#00cc96\",\"#ab63fa\",\"#FFA15A\",\"#19d3f3\",\"#FF6692\",\"#B6E880\",\"#FF97FF\",\"#FECB52\"],\"font\":{\"color\":\"#2a3f5f\"},\"hovermode\":\"closest\",\"hoverlabel\":{\"align\":\"left\"},\"paper_bgcolor\":\"white\",\"plot_bgcolor\":\"#E5ECF6\",\"polar\":{\"bgcolor\":\"#E5ECF6\",\"angularaxis\":{\"gridcolor\":\"white\",\"linecolor\":\"white\",\"ticks\":\"\"},\"radialaxis\":{\"gridcolor\":\"white\",\"linecolor\":\"white\",\"ticks\":\"\"}},\"ternary\":{\"bgcolor\":\"#E5ECF6\",\"aaxis\":{\"gridcolor\":\"white\",\"linecolor\":\"white\",\"ticks\":\"\"},\"baxis\":{\"gridcolor\":\"white\",\"linecolor\":\"white\",\"ticks\":\"\"},\"caxis\":{\"gridcolor\":\"white\",\"linecolor\":\"white\",\"ticks\":\"\"}},\"coloraxis\":{\"colorbar\":{\"outlinewidth\":0,\"ticks\":\"\"}},\"colorscale\":{\"sequential\":[[0.0,\"#0d0887\"],[0.1111111111111111,\"#46039f\"],[0.2222222222222222,\"#7201a8\"],[0.3333333333333333,\"#9c179e\"],[0.4444444444444444,\"#bd3786\"],[0.5555555555555556,\"#d8576b\"],[0.6666666666666666,\"#ed7953\"],[0.7777777777777778,\"#fb9f3a\"],[0.8888888888888888,\"#fdca26\"],[1.0,\"#f0f921\"]],\"sequentialminus\":[[0.0,\"#0d0887\"],[0.1111111111111111,\"#46039f\"],[0.2222222222222222,\"#7201a8\"],[0.3333333333333333,\"#9c179e\"],[0.4444444444444444,\"#bd3786\"],[0.5555555555555556,\"#d8576b\"],[0.6666666666666666,\"#ed7953\"],[0.7777777777777778,\"#fb9f3a\"],[0.8888888888888888,\"#fdca26\"],[1.0,\"#f0f921\"]],\"diverging\":[[0,\"#8e0152\"],[0.1,\"#c51b7d\"],[0.2,\"#de77ae\"],[0.3,\"#f1b6da\"],[0.4,\"#fde0ef\"],[0.5,\"#f7f7f7\"],[0.6,\"#e6f5d0\"],[0.7,\"#b8e186\"],[0.8,\"#7fbc41\"],[0.9,\"#4d9221\"],[1,\"#276419\"]]},\"xaxis\":{\"gridcolor\":\"white\",\"linecolor\":\"white\",\"ticks\":\"\",\"title\":{\"standoff\":15},\"zerolinecolor\":\"white\",\"automargin\":true,\"zerolinewidth\":2},\"yaxis\":{\"gridcolor\":\"white\",\"linecolor\":\"white\",\"ticks\":\"\",\"title\":{\"standoff\":15},\"zerolinecolor\":\"white\",\"automargin\":true,\"zerolinewidth\":2},\"scene\":{\"xaxis\":{\"backgroundcolor\":\"#E5ECF6\",\"gridcolor\":\"white\",\"linecolor\":\"white\",\"showbackground\":true,\"ticks\":\"\",\"zerolinecolor\":\"white\",\"gridwidth\":2},\"yaxis\":{\"backgroundcolor\":\"#E5ECF6\",\"gridcolor\":\"white\",\"linecolor\":\"white\",\"showbackground\":true,\"ticks\":\"\",\"zerolinecolor\":\"white\",\"gridwidth\":2},\"zaxis\":{\"backgroundcolor\":\"#E5ECF6\",\"gridcolor\":\"white\",\"linecolor\":\"white\",\"showbackground\":true,\"ticks\":\"\",\"zerolinecolor\":\"white\",\"gridwidth\":2}},\"shapedefaults\":{\"line\":{\"color\":\"#2a3f5f\"}},\"annotationdefaults\":{\"arrowcolor\":\"#2a3f5f\",\"arrowhead\":0,\"arrowwidth\":1},\"geo\":{\"bgcolor\":\"white\",\"landcolor\":\"#E5ECF6\",\"subunitcolor\":\"white\",\"showland\":true,\"showlakes\":true,\"lakecolor\":\"white\"},\"title\":{\"x\":0.05},\"mapbox\":{\"style\":\"light\"}}}},                        {\"responsive\": true}                    ).then(function(){\n",
              "                            \n",
              "var gd = document.getElementById('2d825a85-9608-4a58-8339-bd236494640c');\n",
              "var x = new MutationObserver(function (mutations, observer) {{\n",
              "        var display = window.getComputedStyle(gd).display;\n",
              "        if (!display || display === 'none') {{\n",
              "            console.log([gd, 'removed!']);\n",
              "            Plotly.purge(gd);\n",
              "            observer.disconnect();\n",
              "        }}\n",
              "}});\n",
              "\n",
              "// Listen for the removal of the full notebook cells\n",
              "var notebookContainer = gd.closest('#notebook-container');\n",
              "if (notebookContainer) {{\n",
              "    x.observe(notebookContainer, {childList: true});\n",
              "}}\n",
              "\n",
              "// Listen for the clearing of the current output cell\n",
              "var outputEl = gd.closest('.output');\n",
              "if (outputEl) {{\n",
              "    x.observe(outputEl, {childList: true});\n",
              "}}\n",
              "\n",
              "                        })                };                            </script>        </div>\n",
              "</body>\n",
              "</html>"
            ]
          },
          "metadata": {}
        }
      ]
    },
    {
      "cell_type": "code",
      "source": [
        "abcabc = 3"
      ],
      "metadata": {
        "id": "PGvUZyQgRXRc"
      },
      "execution_count": null,
      "outputs": []
    },
    {
      "cell_type": "code",
      "source": [
        "print(abc)\n",
        "\n",
        "integer1 = 10\n",
        "float1 = 10.5\n",
        "stringal = '10'\n",
        "boolean1 = True\n",
        "\n",
        "print(type(1000))\n",
        "\n",
        "type(str(1000))\n",
        "\n",
        "abc = 1\n",
        "print(abc)\n",
        "abc = 2\n",
        "print(abc)\n",
        "\n",
        "print(10 + 10)\n",
        "print('10'+'10')\n",
        "print(True + 1)"
      ],
      "metadata": {
        "colab": {
          "base_uri": "https://localhost:8080/"
        },
        "id": "-eWW6z2aQnWD",
        "outputId": "176365ae-05a9-4020-abf4-cfddd35d62ea"
      },
      "execution_count": null,
      "outputs": [
        {
          "output_type": "stream",
          "name": "stdout",
          "text": [
            "2\n",
            "<class 'int'>\n",
            "1\n",
            "2\n",
            "20\n",
            "1010\n",
            "2\n"
          ]
        }
      ]
    },
    {
      "cell_type": "code",
      "source": [
        "print(100+100)\n",
        "print(100-100)\n",
        "print(100*100)\n",
        "print(100/100)\n",
        "print(10**10)\n",
        "print(150 // 100)\n",
        "print(150 % 100)\n",
        "\n",
        "print(100 +100*200)\n",
        "print((100+100)*200)\n"
      ],
      "metadata": {
        "colab": {
          "base_uri": "https://localhost:8080/"
        },
        "id": "R9OPwU15aJ3I",
        "outputId": "c179a68c-f1bb-4a96-c3c7-f6a63106a14d"
      },
      "execution_count": null,
      "outputs": [
        {
          "output_type": "stream",
          "name": "stdout",
          "text": [
            "200\n",
            "0\n",
            "10000\n",
            "1.0\n",
            "10000000000\n",
            "1\n",
            "50\n",
            "20100\n",
            "40000\n",
            "2\n"
          ]
        }
      ]
    },
    {
      "cell_type": "code",
      "source": [
        "num1 = 1\n",
        "num1 =num1 + 1\n",
        "print(num1)\n",
        "\n",
        "num1 += 1"
      ],
      "metadata": {
        "colab": {
          "base_uri": "https://localhost:8080/"
        },
        "id": "cu8gPQy0betg",
        "outputId": "de232376-0f4b-4d5b-c671-bbf7d751ae14"
      },
      "execution_count": null,
      "outputs": [
        {
          "output_type": "stream",
          "name": "stdout",
          "text": [
            "2\n"
          ]
        }
      ]
    },
    {
      "cell_type": "code",
      "source": [
        "print(10 == 10)\n",
        "print(10 != 10)\n",
        "print(10 < 20)\n",
        "print(10 > 20)\n",
        "print(10 >= 10)\n",
        "print(10 <= 10)"
      ],
      "metadata": {
        "colab": {
          "base_uri": "https://localhost:8080/"
        },
        "id": "cr0k2pRbbh_k",
        "outputId": "8acc262f-5c4a-4c3d-9c99-b810ffb480b7"
      },
      "execution_count": null,
      "outputs": [
        {
          "output_type": "stream",
          "name": "stdout",
          "text": [
            "True\n",
            "False\n",
            "True\n",
            "False\n",
            "True\n",
            "True\n"
          ]
        }
      ]
    },
    {
      "cell_type": "code",
      "source": [
        "x = 10 == 10\n",
        "y = 10 == 11\n",
        "\n",
        "print(x and y)\n",
        "print(x or y)\n",
        "print(not x)\n",
        "print(not y)"
      ],
      "metadata": {
        "colab": {
          "base_uri": "https://localhost:8080/"
        },
        "id": "swVDfEyscEA7",
        "outputId": "ea05c077-70f0-47d5-c2cb-c628ca205406"
      },
      "execution_count": null,
      "outputs": [
        {
          "output_type": "stream",
          "name": "stdout",
          "text": [
            "False\n",
            "True\n",
            "False\n",
            "True\n"
          ]
        }
      ]
    },
    {
      "cell_type": "code",
      "source": [
        "x = 100\n",
        "y = 1\n",
        "\n",
        "if x > 10:\n",
        "  if y == 1:\n",
        "    print('yay')\n",
        "  else:\n",
        "    print('Nothing')\n",
        "  print('Hi')\n",
        "else:\n",
        "  print('Hello')\n",
        "\n",
        "if x > 100:\n",
        "  print('1')\n",
        "elif x == 100:\n",
        "  print('2')\n",
        "elif y == 1:\n",
        "  print('HELLO')\n",
        "else:\n",
        "  print('3')"
      ],
      "metadata": {
        "colab": {
          "base_uri": "https://localhost:8080/"
        },
        "id": "CVCeLFNjdAmL",
        "outputId": "049ad483-2ab4-4425-c71c-6f449a1710f5"
      },
      "execution_count": null,
      "outputs": [
        {
          "output_type": "stream",
          "name": "stdout",
          "text": [
            "yay\n",
            "Hi\n",
            "2\n"
          ]
        }
      ]
    },
    {
      "cell_type": "code",
      "source": [
        "abc = 10\n",
        "while abc < 20:\n",
        "  print(abc)\n",
        "  abc += 1\n",
        "\n",
        "for i in range(6):\n",
        "  print(i)"
      ],
      "metadata": {
        "colab": {
          "base_uri": "https://localhost:8080/"
        },
        "id": "xzTA0Ibxeipa",
        "outputId": "c8f1cbe8-9c75-41d5-9b45-6a5239137c2d"
      },
      "execution_count": null,
      "outputs": [
        {
          "output_type": "stream",
          "name": "stdout",
          "text": [
            "10\n",
            "11\n",
            "12\n",
            "13\n",
            "14\n",
            "15\n",
            "16\n",
            "17\n",
            "18\n",
            "19\n",
            "0\n",
            "1\n",
            "2\n",
            "3\n",
            "4\n",
            "5\n"
          ]
        }
      ]
    },
    {
      "cell_type": "code",
      "source": [
        "list1 = [20,10,30]\n",
        "print(list1)\n",
        "\n",
        "print(list1[0])\n",
        "\n",
        "list1[0] = 1000\n",
        "\n",
        "print(list1)\n",
        "\n",
        "print(range(100,105))\n",
        "\n",
        "\n",
        "list(range(100,105))\n",
        "\n",
        "list1.sort(reverse=True)\n",
        "print(list1)"
      ],
      "metadata": {
        "colab": {
          "base_uri": "https://localhost:8080/"
        },
        "id": "XzkibiYngOZv",
        "outputId": "215c132c-a9f1-402b-df9f-6fb5f5236184"
      },
      "execution_count": null,
      "outputs": [
        {
          "output_type": "stream",
          "name": "stdout",
          "text": [
            "[20, 10, 30]\n",
            "20\n",
            "[1000, 10, 30]\n",
            "range(100, 105)\n",
            "[1000, 30, 10]\n"
          ]
        }
      ]
    },
    {
      "cell_type": "code",
      "source": [
        "dict1 = {\"apple\":\"Healthy\",\"orange\":\"Healthy\",\"fries\":\"Unhealthy\"}\n",
        "dict1[\"apple\"]\n"
      ],
      "metadata": {
        "colab": {
          "base_uri": "https://localhost:8080/",
          "height": 37
        },
        "id": "zKWSx8IeiSyx",
        "outputId": "a580da1d-4666-4c5f-c6bc-9c6aaf603287"
      },
      "execution_count": null,
      "outputs": [
        {
          "output_type": "execute_result",
          "data": {
            "text/plain": [
              "'Healthy'"
            ],
            "application/vnd.google.colaboratory.intrinsic+json": {
              "type": "string"
            }
          },
          "metadata": {},
          "execution_count": 82
        }
      ]
    },
    {
      "cell_type": "code",
      "source": [
        "set1 = {1,2,3}\n",
        "set2 = {2,3,4}\n",
        "\n",
        "print(set1.intersection(set2))\n",
        "print(set1.union(set2))\n",
        "\n",
        "tuple1 = (10,20)\n",
        "print(tuple1[0])\n"
      ],
      "metadata": {
        "colab": {
          "base_uri": "https://localhost:8080/"
        },
        "id": "KgOCNyo-ixZm",
        "outputId": "9ee04c93-a2e9-4d5c-ed77-39a0ed3b48dc"
      },
      "execution_count": null,
      "outputs": [
        {
          "output_type": "stream",
          "name": "stdout",
          "text": [
            "{2, 3}\n",
            "{1, 2, 3, 4}\n",
            "10\n"
          ]
        }
      ]
    },
    {
      "cell_type": "code",
      "source": [
        "def sayHi(word='Hi',word2='Bye'):\n",
        "  print(\"Hi\")\n",
        "sayHi"
      ],
      "metadata": {
        "id": "I211gpGAjwLQ",
        "colab": {
          "base_uri": "https://localhost:8080/"
        },
        "outputId": "24dc7950-52f5-479f-96f3-5b2994fba79a"
      },
      "execution_count": null,
      "outputs": [
        {
          "output_type": "execute_result",
          "data": {
            "text/plain": [
              "<function __main__.sayHi>"
            ]
          },
          "metadata": {},
          "execution_count": 26
        }
      ]
    },
    {
      "cell_type": "code",
      "source": [
        "x = input(\"press your number:\")\n",
        "x = int(x)\n",
        "if x > 200:\n",
        "  print(\">200\")\n",
        "elif x > 100:\n",
        "  print(\">100,<200\")\n",
        "else:\n",
        "  print(\"<200\")"
      ],
      "metadata": {
        "colab": {
          "base_uri": "https://localhost:8080/"
        },
        "id": "Z97NXYO36slo",
        "outputId": "d5234a22-95ab-4b7a-b04d-78d35d268838"
      },
      "execution_count": null,
      "outputs": [
        {
          "output_type": "stream",
          "name": "stdout",
          "text": [
            "press your number:150\n",
            ">100,<200\n"
          ]
        }
      ]
    },
    {
      "cell_type": "code",
      "source": [
        " # while circle\n",
        "abc = 10\n",
        "while abc < 20:\n",
        "  print(abc)\n",
        "  abc += 1\n",
        "\n",
        "# for circle\n",
        "for x in range(5):\n",
        "  print(x)"
      ],
      "metadata": {
        "colab": {
          "base_uri": "https://localhost:8080/"
        },
        "id": "7yokK2SC_nh-",
        "outputId": "c625220e-4bd7-4b28-fb78-9dcc452fa475"
      },
      "execution_count": null,
      "outputs": [
        {
          "output_type": "stream",
          "name": "stdout",
          "text": [
            "10\n",
            "11\n",
            "12\n",
            "13\n",
            "14\n",
            "15\n",
            "16\n",
            "17\n",
            "18\n",
            "19\n",
            "0\n",
            "1\n",
            "2\n",
            "3\n",
            "4\n"
          ]
        }
      ]
    },
    {
      "cell_type": "code",
      "source": [
        "x = list(range(2,20,2))\n",
        "print(x)"
      ],
      "metadata": {
        "colab": {
          "base_uri": "https://localhost:8080/"
        },
        "id": "iVinn49uBnom",
        "outputId": "3ff82c93-0df0-4f96-c1d8-15be7f120d71"
      },
      "execution_count": null,
      "outputs": [
        {
          "output_type": "stream",
          "name": "stdout",
          "text": [
            "[2, 4, 6, 8, 10, 12, 14, 16, 18]\n"
          ]
        }
      ]
    },
    {
      "cell_type": "code",
      "source": [
        "x = list(range(2,-20,-2))\n",
        "print(x)"
      ],
      "metadata": {
        "colab": {
          "base_uri": "https://localhost:8080/"
        },
        "id": "GRtCgz_mGHYQ",
        "outputId": "835a25de-7b87-4441-a66d-dda7f91b5d2b"
      },
      "execution_count": null,
      "outputs": [
        {
          "output_type": "stream",
          "name": "stdout",
          "text": [
            "[2, 0, -2, -4, -6, -8, -10, -12, -14, -16, -18]\n"
          ]
        }
      ]
    },
    {
      "cell_type": "code",
      "source": [
        "n1 = int(input(\"press num.1 : \"))\n",
        "n2 = int(input(\"press num.2 : \"))\n",
        "op = input(\" + , - , * , / :\")\n",
        "if op==\"+\":\n",
        "  print(n1+n2)\n",
        "elif op==\"-\":\n",
        "  print(n1-n2)\n",
        "elif op==\"*\":\n",
        "  print(n1*n2)\n",
        "elif op==\"/\":\n",
        "  print(n1/n2)\n",
        "else:\n",
        "  print(\"NTH\")"
      ],
      "metadata": {
        "colab": {
          "base_uri": "https://localhost:8080/"
        },
        "id": "gixa0HBfHlaa",
        "outputId": "9bac6a2b-e75f-47a4-da8a-9276e68d2430"
      },
      "execution_count": null,
      "outputs": [
        {
          "output_type": "stream",
          "name": "stdout",
          "text": [
            "press num.1 : 5\n",
            "press num.2 : 5\n",
            " + , - , * , / :/\n",
            "1.0\n"
          ]
        }
      ]
    },
    {
      "cell_type": "code",
      "source": [
        "n = input(\"press a number : \")\n",
        "n=int(n)\n",
        "for i in range(n):\n",
        "  if i*i==n:\n",
        "    print(\"yes,this is\",i)\n",
        "    break\n",
        "else:\n",
        "  print(\"no , there is not\")"
      ],
      "metadata": {
        "colab": {
          "base_uri": "https://localhost:8080/"
        },
        "id": "wQKqF6edPpB7",
        "outputId": "5f01062d-17dd-4f38-e60c-8c702c167206"
      },
      "execution_count": null,
      "outputs": [
        {
          "output_type": "stream",
          "name": "stdout",
          "text": [
            "press a number : 101\n",
            "no , there is not\n"
          ]
        }
      ]
    },
    {
      "cell_type": "code",
      "source": [
        "def abc(n1,n2):\n",
        "  print(n1*n2)\n",
        "  return n1*n2\n",
        "value=abc(3,4)+abc(10,5)\n",
        "print(value)"
      ],
      "metadata": {
        "colab": {
          "base_uri": "https://localhost:8080/"
        },
        "id": "hneyBH3k3D_7",
        "outputId": "4f405818-3dd9-4cc0-8c1d-cbfee744c767"
      },
      "execution_count": null,
      "outputs": [
        {
          "output_type": "stream",
          "name": "stdout",
          "text": [
            "12\n",
            "50\n",
            "62\n"
          ]
        }
      ]
    },
    {
      "cell_type": "code",
      "source": [
        "def cal(max):\n",
        "  sum=0\n",
        "  for n in range(1,max+1):\n",
        "    sum=sum+n\n",
        "  print(sum)\n",
        "\n",
        "cal(10)\n",
        "cal(500)"
      ],
      "metadata": {
        "colab": {
          "base_uri": "https://localhost:8080/"
        },
        "id": "fjmcytnd66j1",
        "outputId": "3144b848-3dd0-4623-c0e6-b9f5f64ce9ee"
      },
      "execution_count": null,
      "outputs": [
        {
          "output_type": "stream",
          "name": "stdout",
          "text": [
            "55\n",
            "125250\n"
          ]
        }
      ]
    },
    {
      "cell_type": "code",
      "source": [
        "tuple1=(1,\"A\",2,33,\"BB\")\n",
        "n = str(tuple1)\n",
        "print(tuple1[1])"
      ],
      "metadata": {
        "colab": {
          "base_uri": "https://localhost:8080/"
        },
        "id": "lzWWY_ylCWY3",
        "outputId": "47e1ac3f-6106-4dd3-9140-415b874d1ae8"
      },
      "execution_count": null,
      "outputs": [
        {
          "output_type": "stream",
          "name": "stdout",
          "text": [
            "A\n"
          ]
        }
      ]
    },
    {
      "cell_type": "code",
      "source": [
        "#str = stringal\n",
        "\n",
        "str=input(\"Enter a string:\")\n",
        "sub=input (\"Enter the character, you want to find:\")\n",
        "loc=str.find(sub)\n",
        "print(\"First occurence of {} is at location: {}\".format (sub,loc))"
      ],
      "metadata": {
        "colab": {
          "base_uri": "https://localhost:8080/"
        },
        "id": "YHtkbxa1SIy1",
        "outputId": "88bfb02e-7455-4fb4-a732-668225662154"
      },
      "execution_count": null,
      "outputs": [
        {
          "output_type": "stream",
          "name": "stdout",
          "text": [
            "Enter a string:can\n",
            "Enter the character, you want to find:a\n",
            "First occurence of a is at location: 1\n"
          ]
        }
      ]
    }
  ]
}